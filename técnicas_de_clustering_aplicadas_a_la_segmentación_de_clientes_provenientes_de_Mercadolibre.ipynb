{
  "nbformat": 4,
  "nbformat_minor": 0,
  "metadata": {
    "colab": {
      "provenance": []
    },
    "kernelspec": {
      "name": "python3",
      "display_name": "Python 3"
    },
    "language_info": {
      "name": "python"
    }
  },
  "cells": [
    {
      "cell_type": "code",
      "execution_count": 1,
      "metadata": {
        "id": "0J0kjaE6-HW7"
      },
      "outputs": [],
      "source": [
        "import pandas as pd \n",
        "import numpy as np\n",
        "import matplotlib.pyplot as plt\n",
        "import seaborn as sns \n",
        "\n",
        "from sklearn.metrics import confusion_matrix\n",
        "from sklearn.metrics import classification_report\n",
        "from sklearn.model_selection import train_test_split\n",
        "from sklearn.linear_model import LogisticRegression\n",
        "from sklearn.decomposition import PCA\n",
        "from sklearn.tree import DecisionTreeClassifier\n",
        "from sklearn.cluster import KMeans"
      ]
    },
    {
      "cell_type": "code",
      "source": [
        "df = pd.read_csv(\"data.csv\")"
      ],
      "metadata": {
        "id": "QvT1SWchAJ92"
      },
      "execution_count": 2,
      "outputs": []
    },
    {
      "cell_type": "code",
      "source": [
        "df"
      ],
      "metadata": {
        "colab": {
          "base_uri": "https://localhost:8080/",
          "height": 870
        },
        "id": "VFEpxwkDAVDh",
        "outputId": "207507a5-0a01-4fa7-e014-4bf524815a50"
      },
      "execution_count": 3,
      "outputs": [
        {
          "output_type": "execute_result",
          "data": {
            "text/plain": [
              "                         Fecha       Nro. Pedido  SerieNF  NroNF  \\\n",
              "0      7/8/2022 12:12:00 p. m.  2000003845803152      NaN    NaN   \n",
              "1      7/8/2022 12:14:00 p. m.  2000003845811576      NaN    NaN   \n",
              "2       4/1/2022 9:52:00 a. m.        5376015148      NaN    NaN   \n",
              "3      9/9/2022 10:22:00 a. m.  2000004180025828      NaN    NaN   \n",
              "4      7/29/2022 9:12:00 a. m.  2000003955112606      NaN    NaN   \n",
              "...                        ...               ...      ...    ...   \n",
              "1175  5/31/2022 11:39:00 a. m.  2000003639919546      NaN    NaN   \n",
              "1176   4/23/2022 1:25:00 p. m.        5429505309      NaN    NaN   \n",
              "1177   5/13/2022 4:21:00 p. m.  2000003547916352      NaN    NaN   \n",
              "1178   9/30/2022 3:34:00 p. m.  2000004291729610      NaN    NaN   \n",
              "1179   9/12/2022 4:26:00 p. m.  2000004195905914      NaN    NaN   \n",
              "\n",
              "                 Fecha de Pago     NroPagos costodelproducto      Marca  \\\n",
              "0      7/8/2022 12:13:00 p. m.  23830367992          542,938  Neumaster   \n",
              "1      7/8/2022 12:14:00 p. m.  23830483056          542,938  Neumaster   \n",
              "2       4/1/2022 9:52:00 a. m.  21267755553          508,339  Neumaster   \n",
              "3      9/9/2022 10:22:00 a. m.  25622848940          361,578     Tornel   \n",
              "4      7/29/2022 9:12:00 a. m.  24399488327          345,074    Advance   \n",
              "...                        ...          ...              ...        ...   \n",
              "1175  5/31/2022 11:39:00 a. m.  22772092626           33,230    Advance   \n",
              "1176   4/23/2022 1:25:00 p. m.  21817979244           34,400    Advance   \n",
              "1177   5/13/2022 4:21:00 p. m.  22335811518           31,690     Samson   \n",
              "1178   9/30/2022 3:35:00 p. m.  50046017045          399,291  Neumaster   \n",
              "1179   9/12/2022 4:26:00 p. m.  25726808048          167,844  Neumaster   \n",
              "\n",
              "                    Categoria Codigo SKU Marca  ...  Precio Unitario S/I  \\\n",
              "0        Neumáticos Agrícolas    1525880457018  ...        $469,656.1983   \n",
              "1        Neumáticos Agrícolas    1525880457018  ...        $469,656.1983   \n",
              "2        Neumáticos Agrícolas    1525880535016  ...        $438,702.4793   \n",
              "3        Neumáticos Agrícolas     345400575010  ...         $314,552.562   \n",
              "4     Neumáticos Industriales     127530354124  ...        $285,184.7934   \n",
              "...                       ...              ...  ...                  ...   \n",
              "1175    Ruedas para Podadoras     124530031004  ...          $7,462.8099   \n",
              "1176    Ruedas para Podadoras     124530031004  ...          $7,107.4463   \n",
              "1177  Neumáticos Industriales     466267071012  ...          $1,930.2893   \n",
              "1178     Neumáticos Agrícolas    1525260229014  ...              $4.6694   \n",
              "1179     Neumáticos Agrícolas    1525260229014  ...              $4.1322   \n",
              "\n",
              "     Precio Lista Unitario Precio Unitario PrecioComision Unidades  \\\n",
              "0                      NaN        $542,938     $70,581.94        1   \n",
              "1                      NaN        $542,938     $70,581.94        1   \n",
              "2                      NaN        $508,339     $66,084.01        1   \n",
              "3                      NaN        $361,578     $47,005.16        1   \n",
              "4                      NaN        $345,074     $44,859.57        1   \n",
              "...                    ...             ...            ...      ...   \n",
              "1175                   NaN          $8,308      $1,079.99        4   \n",
              "1176                   NaN          $8,600        $1,118.        4   \n",
              "1177                   NaN          $2,336        $363.63        1   \n",
              "1178                   NaN        $199,646     $62,888.37        2   \n",
              "1179                   NaN        $167,844     $21,819.68        1   \n",
              "\n",
              "     Precio_Total Precio Comision Total ImpuestoPorcentaje  CostoEnvio  \\\n",
              "0       $542,938.            $70,581.94                 21         NaN   \n",
              "1       $542,938.            $70,581.94                 21         NaN   \n",
              "2     $508,338.53            $66,084.01                 21         NaN   \n",
              "3     $361,578.17            $47,005.16                 21         NaN   \n",
              "4      $345,073.6            $44,859.57                 21         NaN   \n",
              "...           ...                   ...                ...         ...   \n",
              "1175    $33,230.4             $4,319.96                 21   $2,319.98   \n",
              "1176   $34,400.04               $4,472.                 21     $567.99   \n",
              "1177    $2,335.65               $363.63                 21         NaN   \n",
              "1178  $399,291.24           $125,776.74                 21         NaN   \n",
              "1179  $167,843.66            $21,819.68                 21         NaN   \n",
              "\n",
              "      Distribuidor  \n",
              "0              NaN  \n",
              "1              NaN  \n",
              "2              NaN  \n",
              "3              NaN  \n",
              "4              NaN  \n",
              "...            ...  \n",
              "1175           NaN  \n",
              "1176           NaN  \n",
              "1177           NaN  \n",
              "1178           NaN  \n",
              "1179           NaN  \n",
              "\n",
              "[1180 rows x 47 columns]"
            ],
            "text/html": [
              "\n",
              "  <div id=\"df-68966d42-20f0-4cdf-96b2-7451db8709de\">\n",
              "    <div class=\"colab-df-container\">\n",
              "      <div>\n",
              "<style scoped>\n",
              "    .dataframe tbody tr th:only-of-type {\n",
              "        vertical-align: middle;\n",
              "    }\n",
              "\n",
              "    .dataframe tbody tr th {\n",
              "        vertical-align: top;\n",
              "    }\n",
              "\n",
              "    .dataframe thead th {\n",
              "        text-align: right;\n",
              "    }\n",
              "</style>\n",
              "<table border=\"1\" class=\"dataframe\">\n",
              "  <thead>\n",
              "    <tr style=\"text-align: right;\">\n",
              "      <th></th>\n",
              "      <th>Fecha</th>\n",
              "      <th>Nro. Pedido</th>\n",
              "      <th>SerieNF</th>\n",
              "      <th>NroNF</th>\n",
              "      <th>Fecha de Pago</th>\n",
              "      <th>NroPagos</th>\n",
              "      <th>costodelproducto</th>\n",
              "      <th>Marca</th>\n",
              "      <th>Categoria</th>\n",
              "      <th>Codigo SKU Marca</th>\n",
              "      <th>...</th>\n",
              "      <th>Precio Unitario S/I</th>\n",
              "      <th>Precio Lista Unitario</th>\n",
              "      <th>Precio Unitario</th>\n",
              "      <th>PrecioComision</th>\n",
              "      <th>Unidades</th>\n",
              "      <th>Precio_Total</th>\n",
              "      <th>Precio Comision Total</th>\n",
              "      <th>ImpuestoPorcentaje</th>\n",
              "      <th>CostoEnvio</th>\n",
              "      <th>Distribuidor</th>\n",
              "    </tr>\n",
              "  </thead>\n",
              "  <tbody>\n",
              "    <tr>\n",
              "      <th>0</th>\n",
              "      <td>7/8/2022 12:12:00 p. m.</td>\n",
              "      <td>2000003845803152</td>\n",
              "      <td>NaN</td>\n",
              "      <td>NaN</td>\n",
              "      <td>7/8/2022 12:13:00 p. m.</td>\n",
              "      <td>23830367992</td>\n",
              "      <td>542,938</td>\n",
              "      <td>Neumaster</td>\n",
              "      <td>Neumáticos Agrícolas</td>\n",
              "      <td>1525880457018</td>\n",
              "      <td>...</td>\n",
              "      <td>$469,656.1983</td>\n",
              "      <td>NaN</td>\n",
              "      <td>$542,938</td>\n",
              "      <td>$70,581.94</td>\n",
              "      <td>1</td>\n",
              "      <td>$542,938.</td>\n",
              "      <td>$70,581.94</td>\n",
              "      <td>21</td>\n",
              "      <td>NaN</td>\n",
              "      <td>NaN</td>\n",
              "    </tr>\n",
              "    <tr>\n",
              "      <th>1</th>\n",
              "      <td>7/8/2022 12:14:00 p. m.</td>\n",
              "      <td>2000003845811576</td>\n",
              "      <td>NaN</td>\n",
              "      <td>NaN</td>\n",
              "      <td>7/8/2022 12:14:00 p. m.</td>\n",
              "      <td>23830483056</td>\n",
              "      <td>542,938</td>\n",
              "      <td>Neumaster</td>\n",
              "      <td>Neumáticos Agrícolas</td>\n",
              "      <td>1525880457018</td>\n",
              "      <td>...</td>\n",
              "      <td>$469,656.1983</td>\n",
              "      <td>NaN</td>\n",
              "      <td>$542,938</td>\n",
              "      <td>$70,581.94</td>\n",
              "      <td>1</td>\n",
              "      <td>$542,938.</td>\n",
              "      <td>$70,581.94</td>\n",
              "      <td>21</td>\n",
              "      <td>NaN</td>\n",
              "      <td>NaN</td>\n",
              "    </tr>\n",
              "    <tr>\n",
              "      <th>2</th>\n",
              "      <td>4/1/2022 9:52:00 a. m.</td>\n",
              "      <td>5376015148</td>\n",
              "      <td>NaN</td>\n",
              "      <td>NaN</td>\n",
              "      <td>4/1/2022 9:52:00 a. m.</td>\n",
              "      <td>21267755553</td>\n",
              "      <td>508,339</td>\n",
              "      <td>Neumaster</td>\n",
              "      <td>Neumáticos Agrícolas</td>\n",
              "      <td>1525880535016</td>\n",
              "      <td>...</td>\n",
              "      <td>$438,702.4793</td>\n",
              "      <td>NaN</td>\n",
              "      <td>$508,339</td>\n",
              "      <td>$66,084.01</td>\n",
              "      <td>1</td>\n",
              "      <td>$508,338.53</td>\n",
              "      <td>$66,084.01</td>\n",
              "      <td>21</td>\n",
              "      <td>NaN</td>\n",
              "      <td>NaN</td>\n",
              "    </tr>\n",
              "    <tr>\n",
              "      <th>3</th>\n",
              "      <td>9/9/2022 10:22:00 a. m.</td>\n",
              "      <td>2000004180025828</td>\n",
              "      <td>NaN</td>\n",
              "      <td>NaN</td>\n",
              "      <td>9/9/2022 10:22:00 a. m.</td>\n",
              "      <td>25622848940</td>\n",
              "      <td>361,578</td>\n",
              "      <td>Tornel</td>\n",
              "      <td>Neumáticos Agrícolas</td>\n",
              "      <td>345400575010</td>\n",
              "      <td>...</td>\n",
              "      <td>$314,552.562</td>\n",
              "      <td>NaN</td>\n",
              "      <td>$361,578</td>\n",
              "      <td>$47,005.16</td>\n",
              "      <td>1</td>\n",
              "      <td>$361,578.17</td>\n",
              "      <td>$47,005.16</td>\n",
              "      <td>21</td>\n",
              "      <td>NaN</td>\n",
              "      <td>NaN</td>\n",
              "    </tr>\n",
              "    <tr>\n",
              "      <th>4</th>\n",
              "      <td>7/29/2022 9:12:00 a. m.</td>\n",
              "      <td>2000003955112606</td>\n",
              "      <td>NaN</td>\n",
              "      <td>NaN</td>\n",
              "      <td>7/29/2022 9:12:00 a. m.</td>\n",
              "      <td>24399488327</td>\n",
              "      <td>345,074</td>\n",
              "      <td>Advance</td>\n",
              "      <td>Neumáticos Industriales</td>\n",
              "      <td>127530354124</td>\n",
              "      <td>...</td>\n",
              "      <td>$285,184.7934</td>\n",
              "      <td>NaN</td>\n",
              "      <td>$345,074</td>\n",
              "      <td>$44,859.57</td>\n",
              "      <td>1</td>\n",
              "      <td>$345,073.6</td>\n",
              "      <td>$44,859.57</td>\n",
              "      <td>21</td>\n",
              "      <td>NaN</td>\n",
              "      <td>NaN</td>\n",
              "    </tr>\n",
              "    <tr>\n",
              "      <th>...</th>\n",
              "      <td>...</td>\n",
              "      <td>...</td>\n",
              "      <td>...</td>\n",
              "      <td>...</td>\n",
              "      <td>...</td>\n",
              "      <td>...</td>\n",
              "      <td>...</td>\n",
              "      <td>...</td>\n",
              "      <td>...</td>\n",
              "      <td>...</td>\n",
              "      <td>...</td>\n",
              "      <td>...</td>\n",
              "      <td>...</td>\n",
              "      <td>...</td>\n",
              "      <td>...</td>\n",
              "      <td>...</td>\n",
              "      <td>...</td>\n",
              "      <td>...</td>\n",
              "      <td>...</td>\n",
              "      <td>...</td>\n",
              "      <td>...</td>\n",
              "    </tr>\n",
              "    <tr>\n",
              "      <th>1175</th>\n",
              "      <td>5/31/2022 11:39:00 a. m.</td>\n",
              "      <td>2000003639919546</td>\n",
              "      <td>NaN</td>\n",
              "      <td>NaN</td>\n",
              "      <td>5/31/2022 11:39:00 a. m.</td>\n",
              "      <td>22772092626</td>\n",
              "      <td>33,230</td>\n",
              "      <td>Advance</td>\n",
              "      <td>Ruedas para Podadoras</td>\n",
              "      <td>124530031004</td>\n",
              "      <td>...</td>\n",
              "      <td>$7,462.8099</td>\n",
              "      <td>NaN</td>\n",
              "      <td>$8,308</td>\n",
              "      <td>$1,079.99</td>\n",
              "      <td>4</td>\n",
              "      <td>$33,230.4</td>\n",
              "      <td>$4,319.96</td>\n",
              "      <td>21</td>\n",
              "      <td>$2,319.98</td>\n",
              "      <td>NaN</td>\n",
              "    </tr>\n",
              "    <tr>\n",
              "      <th>1176</th>\n",
              "      <td>4/23/2022 1:25:00 p. m.</td>\n",
              "      <td>5429505309</td>\n",
              "      <td>NaN</td>\n",
              "      <td>NaN</td>\n",
              "      <td>4/23/2022 1:25:00 p. m.</td>\n",
              "      <td>21817979244</td>\n",
              "      <td>34,400</td>\n",
              "      <td>Advance</td>\n",
              "      <td>Ruedas para Podadoras</td>\n",
              "      <td>124530031004</td>\n",
              "      <td>...</td>\n",
              "      <td>$7,107.4463</td>\n",
              "      <td>NaN</td>\n",
              "      <td>$8,600</td>\n",
              "      <td>$1,118.</td>\n",
              "      <td>4</td>\n",
              "      <td>$34,400.04</td>\n",
              "      <td>$4,472.</td>\n",
              "      <td>21</td>\n",
              "      <td>$567.99</td>\n",
              "      <td>NaN</td>\n",
              "    </tr>\n",
              "    <tr>\n",
              "      <th>1177</th>\n",
              "      <td>5/13/2022 4:21:00 p. m.</td>\n",
              "      <td>2000003547916352</td>\n",
              "      <td>NaN</td>\n",
              "      <td>NaN</td>\n",
              "      <td>5/13/2022 4:21:00 p. m.</td>\n",
              "      <td>22335811518</td>\n",
              "      <td>31,690</td>\n",
              "      <td>Samson</td>\n",
              "      <td>Neumáticos Industriales</td>\n",
              "      <td>466267071012</td>\n",
              "      <td>...</td>\n",
              "      <td>$1,930.2893</td>\n",
              "      <td>NaN</td>\n",
              "      <td>$2,336</td>\n",
              "      <td>$363.63</td>\n",
              "      <td>1</td>\n",
              "      <td>$2,335.65</td>\n",
              "      <td>$363.63</td>\n",
              "      <td>21</td>\n",
              "      <td>NaN</td>\n",
              "      <td>NaN</td>\n",
              "    </tr>\n",
              "    <tr>\n",
              "      <th>1178</th>\n",
              "      <td>9/30/2022 3:34:00 p. m.</td>\n",
              "      <td>2000004291729610</td>\n",
              "      <td>NaN</td>\n",
              "      <td>NaN</td>\n",
              "      <td>9/30/2022 3:35:00 p. m.</td>\n",
              "      <td>50046017045</td>\n",
              "      <td>399,291</td>\n",
              "      <td>Neumaster</td>\n",
              "      <td>Neumáticos Agrícolas</td>\n",
              "      <td>1525260229014</td>\n",
              "      <td>...</td>\n",
              "      <td>$4.6694</td>\n",
              "      <td>NaN</td>\n",
              "      <td>$199,646</td>\n",
              "      <td>$62,888.37</td>\n",
              "      <td>2</td>\n",
              "      <td>$399,291.24</td>\n",
              "      <td>$125,776.74</td>\n",
              "      <td>21</td>\n",
              "      <td>NaN</td>\n",
              "      <td>NaN</td>\n",
              "    </tr>\n",
              "    <tr>\n",
              "      <th>1179</th>\n",
              "      <td>9/12/2022 4:26:00 p. m.</td>\n",
              "      <td>2000004195905914</td>\n",
              "      <td>NaN</td>\n",
              "      <td>NaN</td>\n",
              "      <td>9/12/2022 4:26:00 p. m.</td>\n",
              "      <td>25726808048</td>\n",
              "      <td>167,844</td>\n",
              "      <td>Neumaster</td>\n",
              "      <td>Neumáticos Agrícolas</td>\n",
              "      <td>1525260229014</td>\n",
              "      <td>...</td>\n",
              "      <td>$4.1322</td>\n",
              "      <td>NaN</td>\n",
              "      <td>$167,844</td>\n",
              "      <td>$21,819.68</td>\n",
              "      <td>1</td>\n",
              "      <td>$167,843.66</td>\n",
              "      <td>$21,819.68</td>\n",
              "      <td>21</td>\n",
              "      <td>NaN</td>\n",
              "      <td>NaN</td>\n",
              "    </tr>\n",
              "  </tbody>\n",
              "</table>\n",
              "<p>1180 rows × 47 columns</p>\n",
              "</div>\n",
              "      <button class=\"colab-df-convert\" onclick=\"convertToInteractive('df-68966d42-20f0-4cdf-96b2-7451db8709de')\"\n",
              "              title=\"Convert this dataframe to an interactive table.\"\n",
              "              style=\"display:none;\">\n",
              "        \n",
              "  <svg xmlns=\"http://www.w3.org/2000/svg\" height=\"24px\"viewBox=\"0 0 24 24\"\n",
              "       width=\"24px\">\n",
              "    <path d=\"M0 0h24v24H0V0z\" fill=\"none\"/>\n",
              "    <path d=\"M18.56 5.44l.94 2.06.94-2.06 2.06-.94-2.06-.94-.94-2.06-.94 2.06-2.06.94zm-11 1L8.5 8.5l.94-2.06 2.06-.94-2.06-.94L8.5 2.5l-.94 2.06-2.06.94zm10 10l.94 2.06.94-2.06 2.06-.94-2.06-.94-.94-2.06-.94 2.06-2.06.94z\"/><path d=\"M17.41 7.96l-1.37-1.37c-.4-.4-.92-.59-1.43-.59-.52 0-1.04.2-1.43.59L10.3 9.45l-7.72 7.72c-.78.78-.78 2.05 0 2.83L4 21.41c.39.39.9.59 1.41.59.51 0 1.02-.2 1.41-.59l7.78-7.78 2.81-2.81c.8-.78.8-2.07 0-2.86zM5.41 20L4 18.59l7.72-7.72 1.47 1.35L5.41 20z\"/>\n",
              "  </svg>\n",
              "      </button>\n",
              "      \n",
              "  <style>\n",
              "    .colab-df-container {\n",
              "      display:flex;\n",
              "      flex-wrap:wrap;\n",
              "      gap: 12px;\n",
              "    }\n",
              "\n",
              "    .colab-df-convert {\n",
              "      background-color: #E8F0FE;\n",
              "      border: none;\n",
              "      border-radius: 50%;\n",
              "      cursor: pointer;\n",
              "      display: none;\n",
              "      fill: #1967D2;\n",
              "      height: 32px;\n",
              "      padding: 0 0 0 0;\n",
              "      width: 32px;\n",
              "    }\n",
              "\n",
              "    .colab-df-convert:hover {\n",
              "      background-color: #E2EBFA;\n",
              "      box-shadow: 0px 1px 2px rgba(60, 64, 67, 0.3), 0px 1px 3px 1px rgba(60, 64, 67, 0.15);\n",
              "      fill: #174EA6;\n",
              "    }\n",
              "\n",
              "    [theme=dark] .colab-df-convert {\n",
              "      background-color: #3B4455;\n",
              "      fill: #D2E3FC;\n",
              "    }\n",
              "\n",
              "    [theme=dark] .colab-df-convert:hover {\n",
              "      background-color: #434B5C;\n",
              "      box-shadow: 0px 1px 3px 1px rgba(0, 0, 0, 0.15);\n",
              "      filter: drop-shadow(0px 1px 2px rgba(0, 0, 0, 0.3));\n",
              "      fill: #FFFFFF;\n",
              "    }\n",
              "  </style>\n",
              "\n",
              "      <script>\n",
              "        const buttonEl =\n",
              "          document.querySelector('#df-68966d42-20f0-4cdf-96b2-7451db8709de button.colab-df-convert');\n",
              "        buttonEl.style.display =\n",
              "          google.colab.kernel.accessAllowed ? 'block' : 'none';\n",
              "\n",
              "        async function convertToInteractive(key) {\n",
              "          const element = document.querySelector('#df-68966d42-20f0-4cdf-96b2-7451db8709de');\n",
              "          const dataTable =\n",
              "            await google.colab.kernel.invokeFunction('convertToInteractive',\n",
              "                                                     [key], {});\n",
              "          if (!dataTable) return;\n",
              "\n",
              "          const docLinkHtml = 'Like what you see? Visit the ' +\n",
              "            '<a target=\"_blank\" href=https://colab.research.google.com/notebooks/data_table.ipynb>data table notebook</a>'\n",
              "            + ' to learn more about interactive tables.';\n",
              "          element.innerHTML = '';\n",
              "          dataTable['output_type'] = 'display_data';\n",
              "          await google.colab.output.renderOutput(dataTable, element);\n",
              "          const docLink = document.createElement('div');\n",
              "          docLink.innerHTML = docLinkHtml;\n",
              "          element.appendChild(docLink);\n",
              "        }\n",
              "      </script>\n",
              "    </div>\n",
              "  </div>\n",
              "  "
            ]
          },
          "metadata": {},
          "execution_count": 3
        }
      ]
    },
    {
      "cell_type": "code",
      "source": [
        "df.columns"
      ],
      "metadata": {
        "colab": {
          "base_uri": "https://localhost:8080/"
        },
        "id": "3OvXktOuBDEX",
        "outputId": "b7ac458e-2ba0-4b75-bfa6-b8692b661612"
      },
      "execution_count": 4,
      "outputs": [
        {
          "output_type": "execute_result",
          "data": {
            "text/plain": [
              "Index(['Fecha', 'Nro. Pedido', 'SerieNF', 'NroNF', 'Fecha de Pago', 'NroPagos',\n",
              "       'costodelproducto', 'Marca', 'Categoria', 'Codigo SKU Marca',\n",
              "       'Codigo SKU Propio', 'tiketpromediodelproducto', 'Estado', 'Modo Envio',\n",
              "       'Catálogo MeLi Buybox', 'TipoPublicacion', 'TipoLogistica',\n",
              "       'Publicación Full', 'Nombre Pickup', 'Disponibilidad (HS)',\n",
              "       'Fecha Disponible', 'Nombre Comprador', 'Telefono Comprador',\n",
              "       'DNI Comprador', 'Unnamed: 24', 'Unnamed: 25', 'Piso', 'Depto',\n",
              "       'Provincia', 'Localidad', 'Codigo Postal', 'Método de Pago', 'Cuotas',\n",
              "       'Código Sucursal', 'Kits', 'Costo Unitario', 'PorcentajeComision',\n",
              "       'Precio Unitario S/I', 'Precio Lista Unitario', 'Precio Unitario',\n",
              "       'PrecioComision', 'Unidades', 'Precio_Total', 'Precio Comision Total',\n",
              "       'ImpuestoPorcentaje', 'CostoEnvio', 'Distribuidor'],\n",
              "      dtype='object')"
            ]
          },
          "metadata": {},
          "execution_count": 4
        }
      ]
    },
    {
      "cell_type": "code",
      "source": [
        "df.info()"
      ],
      "metadata": {
        "colab": {
          "base_uri": "https://localhost:8080/"
        },
        "id": "Ua8ltbZ_BHPF",
        "outputId": "0051629e-38dc-4d78-c1d3-f7ef12da2caa"
      },
      "execution_count": 5,
      "outputs": [
        {
          "output_type": "stream",
          "name": "stdout",
          "text": [
            "<class 'pandas.core.frame.DataFrame'>\n",
            "RangeIndex: 1180 entries, 0 to 1179\n",
            "Data columns (total 47 columns):\n",
            " #   Column                    Non-Null Count  Dtype  \n",
            "---  ------                    --------------  -----  \n",
            " 0   Fecha                     1180 non-null   object \n",
            " 1   Nro. Pedido               1180 non-null   int64  \n",
            " 2   SerieNF                   0 non-null      float64\n",
            " 3   NroNF                     0 non-null      float64\n",
            " 4   Fecha de Pago             1180 non-null   object \n",
            " 5   NroPagos                  1179 non-null   object \n",
            " 6   costodelproducto          1180 non-null   object \n",
            " 7   Marca                     1180 non-null   object \n",
            " 8   Categoria                 1180 non-null   object \n",
            " 9   Codigo SKU Marca          1180 non-null   object \n",
            " 10  Codigo SKU Propio         113 non-null    float64\n",
            " 11  tiketpromediodelproducto  1180 non-null   object \n",
            " 12  Estado                    1180 non-null   object \n",
            " 13  Modo Envio                1180 non-null   object \n",
            " 14  Catálogo MeLi Buybox      1180 non-null   object \n",
            " 15  TipoPublicacion           1180 non-null   object \n",
            " 16  TipoLogistica             1180 non-null   object \n",
            " 17  Publicación Full          884 non-null    object \n",
            " 18  Nombre Pickup             0 non-null      float64\n",
            " 19  Disponibilidad (HS)       0 non-null      float64\n",
            " 20  Fecha Disponible          0 non-null      float64\n",
            " 21  Nombre Comprador          1180 non-null   object \n",
            " 22  Telefono Comprador        3 non-null      object \n",
            " 23  DNI Comprador             1180 non-null   int64  \n",
            " 24  Unnamed: 24               0 non-null      float64\n",
            " 25  Unnamed: 25               0 non-null      float64\n",
            " 26  Piso                      0 non-null      float64\n",
            " 27  Depto                     0 non-null      float64\n",
            " 28  Provincia                 1180 non-null   object \n",
            " 29  Localidad                 1180 non-null   object \n",
            " 30  Codigo Postal             1180 non-null   int64  \n",
            " 31  Método de Pago            1180 non-null   object \n",
            " 32  Cuotas                    1180 non-null   int64  \n",
            " 33  Código Sucursal           0 non-null      float64\n",
            " 34  Kits                      23 non-null     float64\n",
            " 35  Costo Unitario            1071 non-null   object \n",
            " 36  PorcentajeComision        0 non-null      float64\n",
            " 37  Precio Unitario S/I       1180 non-null   object \n",
            " 38  Precio Lista Unitario     478 non-null    object \n",
            " 39  Precio Unitario           1180 non-null   object \n",
            " 40  PrecioComision            1157 non-null   object \n",
            " 41  Unidades                  1180 non-null   int64  \n",
            " 42  Precio_Total              1180 non-null   object \n",
            " 43  Precio Comision Total     1157 non-null   object \n",
            " 44  ImpuestoPorcentaje        1180 non-null   int64  \n",
            " 45  CostoEnvio                887 non-null    object \n",
            " 46  Distribuidor              911 non-null    object \n",
            "dtypes: float64(13), int64(6), object(28)\n",
            "memory usage: 433.4+ KB\n"
          ]
        }
      ]
    },
    {
      "cell_type": "code",
      "source": [
        "  df = pd.DataFrame(df, columns=[\"Marca\", \"Categoria\",\"tiketpromediodelproducto\", \"TipoPublicacion\",\"Provincia\",\"Cuotas\", \"Unidades\"])"
      ],
      "metadata": {
        "id": "SC_aFvMEBKs5"
      },
      "execution_count": 6,
      "outputs": []
    },
    {
      "cell_type": "code",
      "source": [
        "df"
      ],
      "metadata": {
        "colab": {
          "base_uri": "https://localhost:8080/",
          "height": 424
        },
        "id": "xpWgqVh8Bxov",
        "outputId": "f5349042-cd46-4add-f209-fecae1fa6440"
      },
      "execution_count": 7,
      "outputs": [
        {
          "output_type": "execute_result",
          "data": {
            "text/plain": [
              "          Marca                Categoria tiketpromediodelproducto  \\\n",
              "0     Neumaster     Neumáticos Agrícolas                 $542,938   \n",
              "1     Neumaster     Neumáticos Agrícolas                 $542,938   \n",
              "2     Neumaster     Neumáticos Agrícolas                 $508,338   \n",
              "3        Tornel     Neumáticos Agrícolas                 $361,578   \n",
              "4       Advance  Neumáticos Industriales                 $345,073   \n",
              "...         ...                      ...                      ...   \n",
              "1175    Advance    Ruedas para Podadoras                   $8,875   \n",
              "1176    Advance    Ruedas para Podadoras                   $8,875   \n",
              "1177     Samson  Neumáticos Industriales                  $33,008   \n",
              "1178  Neumaster     Neumáticos Agrícolas                 $176,241   \n",
              "1179  Neumaster     Neumáticos Agrícolas                 $176,241   \n",
              "\n",
              "     TipoPublicacion     Provincia  Cuotas  Unidades  \n",
              "0            Clásica          CABA       1         1  \n",
              "1            Clásica          CABA       1         1  \n",
              "2            Clásica          CABA       1         1  \n",
              "3            Clásica          CABA       1         1  \n",
              "4            Clásica          CABA       1         1  \n",
              "...              ...           ...     ...       ...  \n",
              "1175         Clásica     Río Negro       1         4  \n",
              "1176         Clásica  Buenos Aires       1         4  \n",
              "1177         Clásica          CABA       6         1  \n",
              "1178         Premium          CABA       6         2  \n",
              "1179         Clásica          CABA       1         1  \n",
              "\n",
              "[1180 rows x 7 columns]"
            ],
            "text/html": [
              "\n",
              "  <div id=\"df-d0d838be-9d08-4c23-8a8c-761bdbeaa992\">\n",
              "    <div class=\"colab-df-container\">\n",
              "      <div>\n",
              "<style scoped>\n",
              "    .dataframe tbody tr th:only-of-type {\n",
              "        vertical-align: middle;\n",
              "    }\n",
              "\n",
              "    .dataframe tbody tr th {\n",
              "        vertical-align: top;\n",
              "    }\n",
              "\n",
              "    .dataframe thead th {\n",
              "        text-align: right;\n",
              "    }\n",
              "</style>\n",
              "<table border=\"1\" class=\"dataframe\">\n",
              "  <thead>\n",
              "    <tr style=\"text-align: right;\">\n",
              "      <th></th>\n",
              "      <th>Marca</th>\n",
              "      <th>Categoria</th>\n",
              "      <th>tiketpromediodelproducto</th>\n",
              "      <th>TipoPublicacion</th>\n",
              "      <th>Provincia</th>\n",
              "      <th>Cuotas</th>\n",
              "      <th>Unidades</th>\n",
              "    </tr>\n",
              "  </thead>\n",
              "  <tbody>\n",
              "    <tr>\n",
              "      <th>0</th>\n",
              "      <td>Neumaster</td>\n",
              "      <td>Neumáticos Agrícolas</td>\n",
              "      <td>$542,938</td>\n",
              "      <td>Clásica</td>\n",
              "      <td>CABA</td>\n",
              "      <td>1</td>\n",
              "      <td>1</td>\n",
              "    </tr>\n",
              "    <tr>\n",
              "      <th>1</th>\n",
              "      <td>Neumaster</td>\n",
              "      <td>Neumáticos Agrícolas</td>\n",
              "      <td>$542,938</td>\n",
              "      <td>Clásica</td>\n",
              "      <td>CABA</td>\n",
              "      <td>1</td>\n",
              "      <td>1</td>\n",
              "    </tr>\n",
              "    <tr>\n",
              "      <th>2</th>\n",
              "      <td>Neumaster</td>\n",
              "      <td>Neumáticos Agrícolas</td>\n",
              "      <td>$508,338</td>\n",
              "      <td>Clásica</td>\n",
              "      <td>CABA</td>\n",
              "      <td>1</td>\n",
              "      <td>1</td>\n",
              "    </tr>\n",
              "    <tr>\n",
              "      <th>3</th>\n",
              "      <td>Tornel</td>\n",
              "      <td>Neumáticos Agrícolas</td>\n",
              "      <td>$361,578</td>\n",
              "      <td>Clásica</td>\n",
              "      <td>CABA</td>\n",
              "      <td>1</td>\n",
              "      <td>1</td>\n",
              "    </tr>\n",
              "    <tr>\n",
              "      <th>4</th>\n",
              "      <td>Advance</td>\n",
              "      <td>Neumáticos Industriales</td>\n",
              "      <td>$345,073</td>\n",
              "      <td>Clásica</td>\n",
              "      <td>CABA</td>\n",
              "      <td>1</td>\n",
              "      <td>1</td>\n",
              "    </tr>\n",
              "    <tr>\n",
              "      <th>...</th>\n",
              "      <td>...</td>\n",
              "      <td>...</td>\n",
              "      <td>...</td>\n",
              "      <td>...</td>\n",
              "      <td>...</td>\n",
              "      <td>...</td>\n",
              "      <td>...</td>\n",
              "    </tr>\n",
              "    <tr>\n",
              "      <th>1175</th>\n",
              "      <td>Advance</td>\n",
              "      <td>Ruedas para Podadoras</td>\n",
              "      <td>$8,875</td>\n",
              "      <td>Clásica</td>\n",
              "      <td>Río Negro</td>\n",
              "      <td>1</td>\n",
              "      <td>4</td>\n",
              "    </tr>\n",
              "    <tr>\n",
              "      <th>1176</th>\n",
              "      <td>Advance</td>\n",
              "      <td>Ruedas para Podadoras</td>\n",
              "      <td>$8,875</td>\n",
              "      <td>Clásica</td>\n",
              "      <td>Buenos Aires</td>\n",
              "      <td>1</td>\n",
              "      <td>4</td>\n",
              "    </tr>\n",
              "    <tr>\n",
              "      <th>1177</th>\n",
              "      <td>Samson</td>\n",
              "      <td>Neumáticos Industriales</td>\n",
              "      <td>$33,008</td>\n",
              "      <td>Clásica</td>\n",
              "      <td>CABA</td>\n",
              "      <td>6</td>\n",
              "      <td>1</td>\n",
              "    </tr>\n",
              "    <tr>\n",
              "      <th>1178</th>\n",
              "      <td>Neumaster</td>\n",
              "      <td>Neumáticos Agrícolas</td>\n",
              "      <td>$176,241</td>\n",
              "      <td>Premium</td>\n",
              "      <td>CABA</td>\n",
              "      <td>6</td>\n",
              "      <td>2</td>\n",
              "    </tr>\n",
              "    <tr>\n",
              "      <th>1179</th>\n",
              "      <td>Neumaster</td>\n",
              "      <td>Neumáticos Agrícolas</td>\n",
              "      <td>$176,241</td>\n",
              "      <td>Clásica</td>\n",
              "      <td>CABA</td>\n",
              "      <td>1</td>\n",
              "      <td>1</td>\n",
              "    </tr>\n",
              "  </tbody>\n",
              "</table>\n",
              "<p>1180 rows × 7 columns</p>\n",
              "</div>\n",
              "      <button class=\"colab-df-convert\" onclick=\"convertToInteractive('df-d0d838be-9d08-4c23-8a8c-761bdbeaa992')\"\n",
              "              title=\"Convert this dataframe to an interactive table.\"\n",
              "              style=\"display:none;\">\n",
              "        \n",
              "  <svg xmlns=\"http://www.w3.org/2000/svg\" height=\"24px\"viewBox=\"0 0 24 24\"\n",
              "       width=\"24px\">\n",
              "    <path d=\"M0 0h24v24H0V0z\" fill=\"none\"/>\n",
              "    <path d=\"M18.56 5.44l.94 2.06.94-2.06 2.06-.94-2.06-.94-.94-2.06-.94 2.06-2.06.94zm-11 1L8.5 8.5l.94-2.06 2.06-.94-2.06-.94L8.5 2.5l-.94 2.06-2.06.94zm10 10l.94 2.06.94-2.06 2.06-.94-2.06-.94-.94-2.06-.94 2.06-2.06.94z\"/><path d=\"M17.41 7.96l-1.37-1.37c-.4-.4-.92-.59-1.43-.59-.52 0-1.04.2-1.43.59L10.3 9.45l-7.72 7.72c-.78.78-.78 2.05 0 2.83L4 21.41c.39.39.9.59 1.41.59.51 0 1.02-.2 1.41-.59l7.78-7.78 2.81-2.81c.8-.78.8-2.07 0-2.86zM5.41 20L4 18.59l7.72-7.72 1.47 1.35L5.41 20z\"/>\n",
              "  </svg>\n",
              "      </button>\n",
              "      \n",
              "  <style>\n",
              "    .colab-df-container {\n",
              "      display:flex;\n",
              "      flex-wrap:wrap;\n",
              "      gap: 12px;\n",
              "    }\n",
              "\n",
              "    .colab-df-convert {\n",
              "      background-color: #E8F0FE;\n",
              "      border: none;\n",
              "      border-radius: 50%;\n",
              "      cursor: pointer;\n",
              "      display: none;\n",
              "      fill: #1967D2;\n",
              "      height: 32px;\n",
              "      padding: 0 0 0 0;\n",
              "      width: 32px;\n",
              "    }\n",
              "\n",
              "    .colab-df-convert:hover {\n",
              "      background-color: #E2EBFA;\n",
              "      box-shadow: 0px 1px 2px rgba(60, 64, 67, 0.3), 0px 1px 3px 1px rgba(60, 64, 67, 0.15);\n",
              "      fill: #174EA6;\n",
              "    }\n",
              "\n",
              "    [theme=dark] .colab-df-convert {\n",
              "      background-color: #3B4455;\n",
              "      fill: #D2E3FC;\n",
              "    }\n",
              "\n",
              "    [theme=dark] .colab-df-convert:hover {\n",
              "      background-color: #434B5C;\n",
              "      box-shadow: 0px 1px 3px 1px rgba(0, 0, 0, 0.15);\n",
              "      filter: drop-shadow(0px 1px 2px rgba(0, 0, 0, 0.3));\n",
              "      fill: #FFFFFF;\n",
              "    }\n",
              "  </style>\n",
              "\n",
              "      <script>\n",
              "        const buttonEl =\n",
              "          document.querySelector('#df-d0d838be-9d08-4c23-8a8c-761bdbeaa992 button.colab-df-convert');\n",
              "        buttonEl.style.display =\n",
              "          google.colab.kernel.accessAllowed ? 'block' : 'none';\n",
              "\n",
              "        async function convertToInteractive(key) {\n",
              "          const element = document.querySelector('#df-d0d838be-9d08-4c23-8a8c-761bdbeaa992');\n",
              "          const dataTable =\n",
              "            await google.colab.kernel.invokeFunction('convertToInteractive',\n",
              "                                                     [key], {});\n",
              "          if (!dataTable) return;\n",
              "\n",
              "          const docLinkHtml = 'Like what you see? Visit the ' +\n",
              "            '<a target=\"_blank\" href=https://colab.research.google.com/notebooks/data_table.ipynb>data table notebook</a>'\n",
              "            + ' to learn more about interactive tables.';\n",
              "          element.innerHTML = '';\n",
              "          dataTable['output_type'] = 'display_data';\n",
              "          await google.colab.output.renderOutput(dataTable, element);\n",
              "          const docLink = document.createElement('div');\n",
              "          docLink.innerHTML = docLinkHtml;\n",
              "          element.appendChild(docLink);\n",
              "        }\n",
              "      </script>\n",
              "    </div>\n",
              "  </div>\n",
              "  "
            ]
          },
          "metadata": {},
          "execution_count": 7
        }
      ]
    },
    {
      "cell_type": "code",
      "source": [
        "colores = [\"firebrick\",\"silver\",\"peru\",\"red\", \"burlywood\"]\n"
      ],
      "metadata": {
        "id": "A-7xAZeJCWRy"
      },
      "execution_count": 8,
      "outputs": []
    },
    {
      "cell_type": "code",
      "source": [
        "grafica1= df[\"Categoria\"].value_counts().plot(kind=\"bar\", color = colores, figsize= (10,10));\n",
        "plt.title(\"Grafico de barras en relacion al numero de ventas con la categoria del producto\", color = 'black',\n",
        "                    size = 18) \n",
        "\n"
      ],
      "metadata": {
        "colab": {
          "base_uri": "https://localhost:8080/",
          "height": 786
        },
        "id": "2GmiZ3KtCT7-",
        "outputId": "d377a3c0-1088-464a-b828-fb606773557c"
      },
      "execution_count": 9,
      "outputs": [
        {
          "output_type": "execute_result",
          "data": {
            "text/plain": [
              "Text(0.5, 1.0, 'Grafico de barras en relacion al numero de ventas con la categoria del producto')"
            ]
          },
          "metadata": {},
          "execution_count": 9
        },
        {
          "output_type": "display_data",
          "data": {
            "text/plain": [
              "<Figure size 720x720 with 1 Axes>"
            ],
            "image/png": "[encoded data removed]"
          },
          "metadata": {
            "needs_background": "light"
          }
        }
      ]
    },
    {
      "cell_type": "code",
      "source": [
        "grafica2= df[\"Marca\"].value_counts().plot(kind=\"bar\", color = colores, figsize= (15,5));\n",
        "plt.title(\"Grafico de barras en relacion al numero de ventas con respecto a la Marca del producto\", color = 'black',\n",
        "                    size = 18) \n"
      ],
      "metadata": {
        "colab": {
          "base_uri": "https://localhost:8080/",
          "height": 407
        },
        "id": "4MN_k3gOCZUr",
        "outputId": "d78c5082-4a1d-4115-dae8-dd4209b05a70"
      },
      "execution_count": 10,
      "outputs": [
        {
          "output_type": "execute_result",
          "data": {
            "text/plain": [
              "Text(0.5, 1.0, 'Grafico de barras en relacion al numero de ventas con respecto a la Marca del producto')"
            ]
          },
          "metadata": {},
          "execution_count": 10
        },
        {
          "output_type": "display_data",
          "data": {
            "text/plain": [
              "<Figure size 1080x360 with 1 Axes>"
            ],
            "image/png": "[encoded data removed]"
          },
          "metadata": {
            "needs_background": "light"
          }
        }
      ]
    },
    {
      "cell_type": "code",
      "source": [
        "grafica3= df[\"TipoPublicacion\"].value_counts().plot(kind=\"bar\", color = colores, figsize= (15,5));\n",
        "plt.title(\"Grafico de barras en relacion al numero de ventas con respecto al tipo de publicacion del producto\", color = 'black',\n",
        "                    size = 18) \n"
      ],
      "metadata": {
        "colab": {
          "base_uri": "https://localhost:8080/",
          "height": 391
        },
        "id": "1jCrdBFSCdaT",
        "outputId": "2bd5c3ef-82e7-4a70-a0dd-6ba861b14760"
      },
      "execution_count": 11,
      "outputs": [
        {
          "output_type": "execute_result",
          "data": {
            "text/plain": [
              "Text(0.5, 1.0, 'Grafico de barras en relacion al numero de ventas con respecto al tipo de publicacion del producto')"
            ]
          },
          "metadata": {},
          "execution_count": 11
        },
        {
          "output_type": "display_data",
          "data": {
            "text/plain": [
              "<Figure size 1080x360 with 1 Axes>"
            ],
            "image/png": "[encoded data removed]"
          },
          "metadata": {
            "needs_background": "light"
          }
        }
      ]
    },
    {
      "cell_type": "code",
      "source": [
        "grafica4= df[\"Provincia\"].value_counts().plot(kind=\"bar\", color = colores, figsize= (15,5));\n",
        "plt.title(\"Grafico de barras en relacion a las ventas realizadas en cada provincia\", color = 'black',\n",
        "                    size = 18) \n"
      ],
      "metadata": {
        "colab": {
          "base_uri": "https://localhost:8080/",
          "height": 444
        },
        "id": "KfrjBlBuCkqG",
        "outputId": "d83c118f-25a7-40db-9461-c8697026a660"
      },
      "execution_count": 12,
      "outputs": [
        {
          "output_type": "execute_result",
          "data": {
            "text/plain": [
              "Text(0.5, 1.0, 'Grafico de barras en relacion a las ventas realizadas en cada provincia')"
            ]
          },
          "metadata": {},
          "execution_count": 12
        },
        {
          "output_type": "display_data",
          "data": {
            "text/plain": [
              "<Figure size 1080x360 with 1 Axes>"
            ],
            "image/png": "[encoded data removed]"
          },
          "metadata": {
            "needs_background": "light"
          }
        }
      ]
    },
    {
      "cell_type": "code",
      "source": [
        "grafica5= df[\"Cuotas\"].value_counts().plot(kind=\"bar\", color = colores, figsize= (15,5));\n",
        "plt.title(\"Grafico de barras en relacion al numero de cuotas en las que se abono el producto\", color = 'black',\n",
        "                    size = 18) \n"
      ],
      "metadata": {
        "colab": {
          "base_uri": "https://localhost:8080/",
          "height": 359
        },
        "id": "b3E-y7R2CnGW",
        "outputId": "8862149c-0f56-4f2c-94c0-b65228f7f478"
      },
      "execution_count": 13,
      "outputs": [
        {
          "output_type": "execute_result",
          "data": {
            "text/plain": [
              "Text(0.5, 1.0, 'Grafico de barras en relacion al numero de cuotas en las que se abono el producto')"
            ]
          },
          "metadata": {},
          "execution_count": 13
        },
        {
          "output_type": "display_data",
          "data": {
            "text/plain": [
              "<Figure size 1080x360 with 1 Axes>"
            ],
            "image/png": "[encoded data removed]"
          },
          "metadata": {
            "needs_background": "light"
          }
        }
      ]
    },
    {
      "cell_type": "code",
      "source": [
        "tiket = df.tiketpromediodelproducto.str.replace(\"$\", '' ) #.astype(float).mean\n",
        "tiket = tiket.str.replace(\",\", '.' ).astype(float)"
      ],
      "metadata": {
        "id": "PUUtiI2aF7p8",
        "outputId": "5b840a4b-bcaa-4397-b82a-16aee524dc1b",
        "colab": {
          "base_uri": "https://localhost:8080/"
        }
      },
      "execution_count": 14,
      "outputs": [
        {
          "output_type": "stream",
          "name": "stderr",
          "text": [
            "/usr/local/lib/python3.7/dist-packages/ipykernel_launcher.py:1: FutureWarning: The default value of regex will change from True to False in a future version. In addition, single character regular expressions will *not* be treated as literal strings when regex=True.\n",
            "  \"\"\"Entry point for launching an IPython kernel.\n"
          ]
        }
      ]
    },
    {
      "cell_type": "code",
      "source": [
        "df[\"Provincia\"].unique()"
      ],
      "metadata": {
        "colab": {
          "base_uri": "https://localhost:8080/"
        },
        "id": "AkoapZHuCp3j",
        "outputId": "ac6d2d46-cfba-4f3d-c1f7-e7fc6a538461"
      },
      "execution_count": 15,
      "outputs": [
        {
          "output_type": "execute_result",
          "data": {
            "text/plain": [
              "array(['CABA', 'Buenos Aires', 'Chubut', 'Neuquén', 'Santiago del Estero',\n",
              "       'Córdoba', 'Santa Cruz', 'Mendoza', 'Salta', 'San Luis',\n",
              "       'Catamarca', 'Río Negro', 'Entre Ríos', 'Tucumán', 'Santa Fe',\n",
              "       'Jujuy', 'Corrientes', 'La Rioja', 'Chaco', 'San Juan', 'Formosa',\n",
              "       'La Pampa', 'Misiones'], dtype=object)"
            ]
          },
          "metadata": {},
          "execution_count": 15
        }
      ]
    },
    {
      "cell_type": "code",
      "source": [
        "df[\"Provincia\"] = df[\"Provincia\"].replace({\"CABA\": 70, \"Buenos Aires\": 150, \"Chubut\": 1.737, \"Neuquén\": 989, \"Santiago del Estero\": 939, \"Córdoba\": 646, 'Santa Cruz': 2.207, \"Mendoza\": 985, \"Salta\": 1282, \"San Luis\":749, \"Catamarca\": 1.127, \"Río Negro\": 994, \"Entre Ríos\": 321, \"Tucumán\": 1.247, \"Santa Fe\" : 641, \"Jujuy\": 1.531, \"Corrientes\": 792, \"La Rioja\": 986, \"Chaco\": 1.128, \"San Juan\": 1.105, \"Formosa\": 1.000, \"La Pampa\": 812, \"Misiones\": 1.141 }) #convertimos nuestras variables categoricas a numericas, con la distancia de capital a cada provincia. "
      ],
      "metadata": {
        "id": "aKs-8balCtvQ"
      },
      "execution_count": 16,
      "outputs": []
    },
    {
      "cell_type": "code",
      "source": [
        "df[\"Marca\"].unique()"
      ],
      "metadata": {
        "colab": {
          "base_uri": "https://localhost:8080/"
        },
        "id": "Ky1jWdDPDW5N",
        "outputId": "01dfef5b-5f36-4013-8c22-66083057e258"
      },
      "execution_count": 17,
      "outputs": [
        {
          "output_type": "execute_result",
          "data": {
            "text/plain": [
              "array(['Neumaster', 'Tornel', 'Advance', 'Firestone', 'Bridestone',\n",
              "       'Samson', 'Cultor', 'Bridgestone', 'Jk', 'Sailun', 'Maxam'],\n",
              "      dtype=object)"
            ]
          },
          "metadata": {},
          "execution_count": 17
        }
      ]
    },
    {
      "cell_type": "code",
      "source": [
        "df[\"Marca\"] = df[\"Marca\"].replace({\"Bridgestone\": 1, \"Firestone\": 2, \"Samson\": 3, \"Tornel\": 4, \"Neumaster\": 5, \"Advance\": 6, \"Jk\": 7, \"Cultor\": 8, \"Maxam\": 9, \"Sailun\" : 10, \"Bridestone\": 1}) #convertimos la variable categorica \"Marca\" a numerica segun el nivel de relevancia para la empresa.  "
      ],
      "metadata": {
        "id": "p0HIibkCDcqh"
      },
      "execution_count": 18,
      "outputs": []
    },
    {
      "cell_type": "markdown",
      "source": [
        "definimos la media facturada para cada Categoria. "
      ],
      "metadata": {
        "id": "30jqN50kEJmD"
      }
    },
    {
      "cell_type": "code",
      "source": [
        "tiket = df.tiketpromediodelproducto.str.replace(\"$\", '' ) #.astype(float).mean\n",
        "tiket = tiket.str.replace(\",\", '.' ).astype(float)\n"
      ],
      "metadata": {
        "id": "42xjOfIAESH-",
        "colab": {
          "base_uri": "https://localhost:8080/"
        },
        "outputId": "089fea8a-6655-40c3-938e-9e49e44482fe"
      },
      "execution_count": 19,
      "outputs": [
        {
          "output_type": "stream",
          "name": "stderr",
          "text": [
            "/usr/local/lib/python3.7/dist-packages/ipykernel_launcher.py:1: FutureWarning: The default value of regex will change from True to False in a future version. In addition, single character regular expressions will *not* be treated as literal strings when regex=True.\n",
            "  \"\"\"Entry point for launching an IPython kernel.\n"
          ]
        }
      ]
    },
    {
      "cell_type": "code",
      "source": [
        "df[\"tiket\"]=tiket"
      ],
      "metadata": {
        "id": "oOA5cpd-GdIN"
      },
      "execution_count": 20,
      "outputs": []
    },
    {
      "cell_type": "code",
      "source": [
        "df = df.drop([\"tiketpromediodelproducto\"], axis=1)"
      ],
      "metadata": {
        "id": "edGiVqX0GfS7"
      },
      "execution_count": 21,
      "outputs": []
    },
    {
      "cell_type": "code",
      "source": [
        "df"
      ],
      "metadata": {
        "colab": {
          "base_uri": "https://localhost:8080/",
          "height": 424
        },
        "id": "LTTFZ-QzGghE",
        "outputId": "9f5df8d1-0cab-4811-824c-7185ec10c8eb"
      },
      "execution_count": 22,
      "outputs": [
        {
          "output_type": "execute_result",
          "data": {
            "text/plain": [
              "      Marca                Categoria TipoPublicacion  Provincia  Cuotas  \\\n",
              "0         5     Neumáticos Agrícolas         Clásica       70.0       1   \n",
              "1         5     Neumáticos Agrícolas         Clásica       70.0       1   \n",
              "2         5     Neumáticos Agrícolas         Clásica       70.0       1   \n",
              "3         4     Neumáticos Agrícolas         Clásica       70.0       1   \n",
              "4         6  Neumáticos Industriales         Clásica       70.0       1   \n",
              "...     ...                      ...             ...        ...     ...   \n",
              "1175      6    Ruedas para Podadoras         Clásica      994.0       1   \n",
              "1176      6    Ruedas para Podadoras         Clásica      150.0       1   \n",
              "1177      3  Neumáticos Industriales         Clásica       70.0       6   \n",
              "1178      5     Neumáticos Agrícolas         Premium       70.0       6   \n",
              "1179      5     Neumáticos Agrícolas         Clásica       70.0       1   \n",
              "\n",
              "      Unidades    tiket  \n",
              "0            1  542.938  \n",
              "1            1  542.938  \n",
              "2            1  508.338  \n",
              "3            1  361.578  \n",
              "4            1  345.073  \n",
              "...        ...      ...  \n",
              "1175         4    8.875  \n",
              "1176         4    8.875  \n",
              "1177         1   33.008  \n",
              "1178         2  176.241  \n",
              "1179         1  176.241  \n",
              "\n",
              "[1180 rows x 7 columns]"
            ],
            "text/html": [
              "\n",
              "  <div id=\"df-c6e6f53c-9c96-4157-80b3-b3dadf5dd6eb\">\n",
              "    <div class=\"colab-df-container\">\n",
              "      <div>\n",
              "<style scoped>\n",
              "    .dataframe tbody tr th:only-of-type {\n",
              "        vertical-align: middle;\n",
              "    }\n",
              "\n",
              "    .dataframe tbody tr th {\n",
              "        vertical-align: top;\n",
              "    }\n",
              "\n",
              "    .dataframe thead th {\n",
              "        text-align: right;\n",
              "    }\n",
              "</style>\n",
              "<table border=\"1\" class=\"dataframe\">\n",
              "  <thead>\n",
              "    <tr style=\"text-align: right;\">\n",
              "      <th></th>\n",
              "      <th>Marca</th>\n",
              "      <th>Categoria</th>\n",
              "      <th>TipoPublicacion</th>\n",
              "      <th>Provincia</th>\n",
              "      <th>Cuotas</th>\n",
              "      <th>Unidades</th>\n",
              "      <th>tiket</th>\n",
              "    </tr>\n",
              "  </thead>\n",
              "  <tbody>\n",
              "    <tr>\n",
              "      <th>0</th>\n",
              "      <td>5</td>\n",
              "      <td>Neumáticos Agrícolas</td>\n",
              "      <td>Clásica</td>\n",
              "      <td>70.0</td>\n",
              "      <td>1</td>\n",
              "      <td>1</td>\n",
              "      <td>542.938</td>\n",
              "    </tr>\n",
              "    <tr>\n",
              "      <th>1</th>\n",
              "      <td>5</td>\n",
              "      <td>Neumáticos Agrícolas</td>\n",
              "      <td>Clásica</td>\n",
              "      <td>70.0</td>\n",
              "      <td>1</td>\n",
              "      <td>1</td>\n",
              "      <td>542.938</td>\n",
              "    </tr>\n",
              "    <tr>\n",
              "      <th>2</th>\n",
              "      <td>5</td>\n",
              "      <td>Neumáticos Agrícolas</td>\n",
              "      <td>Clásica</td>\n",
              "      <td>70.0</td>\n",
              "      <td>1</td>\n",
              "      <td>1</td>\n",
              "      <td>508.338</td>\n",
              "    </tr>\n",
              "    <tr>\n",
              "      <th>3</th>\n",
              "      <td>4</td>\n",
              "      <td>Neumáticos Agrícolas</td>\n",
              "      <td>Clásica</td>\n",
              "      <td>70.0</td>\n",
              "      <td>1</td>\n",
              "      <td>1</td>\n",
              "      <td>361.578</td>\n",
              "    </tr>\n",
              "    <tr>\n",
              "      <th>4</th>\n",
              "      <td>6</td>\n",
              "      <td>Neumáticos Industriales</td>\n",
              "      <td>Clásica</td>\n",
              "      <td>70.0</td>\n",
              "      <td>1</td>\n",
              "      <td>1</td>\n",
              "      <td>345.073</td>\n",
              "    </tr>\n",
              "    <tr>\n",
              "      <th>...</th>\n",
              "      <td>...</td>\n",
              "      <td>...</td>\n",
              "      <td>...</td>\n",
              "      <td>...</td>\n",
              "      <td>...</td>\n",
              "      <td>...</td>\n",
              "      <td>...</td>\n",
              "    </tr>\n",
              "    <tr>\n",
              "      <th>1175</th>\n",
              "      <td>6</td>\n",
              "      <td>Ruedas para Podadoras</td>\n",
              "      <td>Clásica</td>\n",
              "      <td>994.0</td>\n",
              "      <td>1</td>\n",
              "      <td>4</td>\n",
              "      <td>8.875</td>\n",
              "    </tr>\n",
              "    <tr>\n",
              "      <th>1176</th>\n",
              "      <td>6</td>\n",
              "      <td>Ruedas para Podadoras</td>\n",
              "      <td>Clásica</td>\n",
              "      <td>150.0</td>\n",
              "      <td>1</td>\n",
              "      <td>4</td>\n",
              "      <td>8.875</td>\n",
              "    </tr>\n",
              "    <tr>\n",
              "      <th>1177</th>\n",
              "      <td>3</td>\n",
              "      <td>Neumáticos Industriales</td>\n",
              "      <td>Clásica</td>\n",
              "      <td>70.0</td>\n",
              "      <td>6</td>\n",
              "      <td>1</td>\n",
              "      <td>33.008</td>\n",
              "    </tr>\n",
              "    <tr>\n",
              "      <th>1178</th>\n",
              "      <td>5</td>\n",
              "      <td>Neumáticos Agrícolas</td>\n",
              "      <td>Premium</td>\n",
              "      <td>70.0</td>\n",
              "      <td>6</td>\n",
              "      <td>2</td>\n",
              "      <td>176.241</td>\n",
              "    </tr>\n",
              "    <tr>\n",
              "      <th>1179</th>\n",
              "      <td>5</td>\n",
              "      <td>Neumáticos Agrícolas</td>\n",
              "      <td>Clásica</td>\n",
              "      <td>70.0</td>\n",
              "      <td>1</td>\n",
              "      <td>1</td>\n",
              "      <td>176.241</td>\n",
              "    </tr>\n",
              "  </tbody>\n",
              "</table>\n",
              "<p>1180 rows × 7 columns</p>\n",
              "</div>\n",
              "      <button class=\"colab-df-convert\" onclick=\"convertToInteractive('df-c6e6f53c-9c96-4157-80b3-b3dadf5dd6eb')\"\n",
              "              title=\"Convert this dataframe to an interactive table.\"\n",
              "              style=\"display:none;\">\n",
              "        \n",
              "  <svg xmlns=\"http://www.w3.org/2000/svg\" height=\"24px\"viewBox=\"0 0 24 24\"\n",
              "       width=\"24px\">\n",
              "    <path d=\"M0 0h24v24H0V0z\" fill=\"none\"/>\n",
              "    <path d=\"M18.56 5.44l.94 2.06.94-2.06 2.06-.94-2.06-.94-.94-2.06-.94 2.06-2.06.94zm-11 1L8.5 8.5l.94-2.06 2.06-.94-2.06-.94L8.5 2.5l-.94 2.06-2.06.94zm10 10l.94 2.06.94-2.06 2.06-.94-2.06-.94-.94-2.06-.94 2.06-2.06.94z\"/><path d=\"M17.41 7.96l-1.37-1.37c-.4-.4-.92-.59-1.43-.59-.52 0-1.04.2-1.43.59L10.3 9.45l-7.72 7.72c-.78.78-.78 2.05 0 2.83L4 21.41c.39.39.9.59 1.41.59.51 0 1.02-.2 1.41-.59l7.78-7.78 2.81-2.81c.8-.78.8-2.07 0-2.86zM5.41 20L4 18.59l7.72-7.72 1.47 1.35L5.41 20z\"/>\n",
              "  </svg>\n",
              "      </button>\n",
              "      \n",
              "  <style>\n",
              "    .colab-df-container {\n",
              "      display:flex;\n",
              "      flex-wrap:wrap;\n",
              "      gap: 12px;\n",
              "    }\n",
              "\n",
              "    .colab-df-convert {\n",
              "      background-color: #E8F0FE;\n",
              "      border: none;\n",
              "      border-radius: 50%;\n",
              "      cursor: pointer;\n",
              "      display: none;\n",
              "      fill: #1967D2;\n",
              "      height: 32px;\n",
              "      padding: 0 0 0 0;\n",
              "      width: 32px;\n",
              "    }\n",
              "\n",
              "    .colab-df-convert:hover {\n",
              "      background-color: #E2EBFA;\n",
              "      box-shadow: 0px 1px 2px rgba(60, 64, 67, 0.3), 0px 1px 3px 1px rgba(60, 64, 67, 0.15);\n",
              "      fill: #174EA6;\n",
              "    }\n",
              "\n",
              "    [theme=dark] .colab-df-convert {\n",
              "      background-color: #3B4455;\n",
              "      fill: #D2E3FC;\n",
              "    }\n",
              "\n",
              "    [theme=dark] .colab-df-convert:hover {\n",
              "      background-color: #434B5C;\n",
              "      box-shadow: 0px 1px 3px 1px rgba(0, 0, 0, 0.15);\n",
              "      filter: drop-shadow(0px 1px 2px rgba(0, 0, 0, 0.3));\n",
              "      fill: #FFFFFF;\n",
              "    }\n",
              "  </style>\n",
              "\n",
              "      <script>\n",
              "        const buttonEl =\n",
              "          document.querySelector('#df-c6e6f53c-9c96-4157-80b3-b3dadf5dd6eb button.colab-df-convert');\n",
              "        buttonEl.style.display =\n",
              "          google.colab.kernel.accessAllowed ? 'block' : 'none';\n",
              "\n",
              "        async function convertToInteractive(key) {\n",
              "          const element = document.querySelector('#df-c6e6f53c-9c96-4157-80b3-b3dadf5dd6eb');\n",
              "          const dataTable =\n",
              "            await google.colab.kernel.invokeFunction('convertToInteractive',\n",
              "                                                     [key], {});\n",
              "          if (!dataTable) return;\n",
              "\n",
              "          const docLinkHtml = 'Like what you see? Visit the ' +\n",
              "            '<a target=\"_blank\" href=https://colab.research.google.com/notebooks/data_table.ipynb>data table notebook</a>'\n",
              "            + ' to learn more about interactive tables.';\n",
              "          element.innerHTML = '';\n",
              "          dataTable['output_type'] = 'display_data';\n",
              "          await google.colab.output.renderOutput(dataTable, element);\n",
              "          const docLink = document.createElement('div');\n",
              "          docLink.innerHTML = docLinkHtml;\n",
              "          element.appendChild(docLink);\n",
              "        }\n",
              "      </script>\n",
              "    </div>\n",
              "  </div>\n",
              "  "
            ]
          },
          "metadata": {},
          "execution_count": 22
        }
      ]
    },
    {
      "cell_type": "code",
      "source": [
        "df[\"Categoria\"].unique()"
      ],
      "metadata": {
        "colab": {
          "base_uri": "https://localhost:8080/"
        },
        "id": "7JaV_E05IfOb",
        "outputId": "930fdc03-1c12-44b4-f884-ef5e6c0efe4d"
      },
      "execution_count": 23,
      "outputs": [
        {
          "output_type": "execute_result",
          "data": {
            "text/plain": [
              "array(['Neumáticos Agrícolas', 'Neumáticos Industriales',\n",
              "       'Neumáticos para Camiones', 'Neumáticos de Auto y Camioneta',\n",
              "       'Ruedas para Podadoras'], dtype=object)"
            ]
          },
          "metadata": {},
          "execution_count": 23
        }
      ]
    },
    {
      "cell_type": "code",
      "source": [
        "df2 = pd.DataFrame(df, columns=[\"Categoria\",\"tiket\"])"
      ],
      "metadata": {
        "id": "bZ9QmRk5Gomb"
      },
      "execution_count": 24,
      "outputs": []
    },
    {
      "cell_type": "code",
      "source": [
        "ag = df2[df2[\"Categoria\"] == \"Neumáticos Agrícolas\"]"
      ],
      "metadata": {
        "id": "PG2aU7AWGu4i"
      },
      "execution_count": 25,
      "outputs": []
    },
    {
      "cell_type": "code",
      "source": [
        "mag =ag.mean() \n"
      ],
      "metadata": {
        "colab": {
          "base_uri": "https://localhost:8080/"
        },
        "id": "WSXRPLPiGxWH",
        "outputId": "73e05049-9a33-4287-e553-5da7c27dfc56"
      },
      "execution_count": 26,
      "outputs": [
        {
          "output_type": "stream",
          "name": "stderr",
          "text": [
            "/usr/local/lib/python3.7/dist-packages/ipykernel_launcher.py:1: FutureWarning: Dropping of nuisance columns in DataFrame reductions (with 'numeric_only=None') is deprecated; in a future version this will raise TypeError.  Select only valid columns before calling the reduction.\n",
            "  \"\"\"Entry point for launching an IPython kernel.\n"
          ]
        }
      ]
    },
    {
      "cell_type": "code",
      "source": [
        "mag #Media de Neumaticos Agricolas. "
      ],
      "metadata": {
        "colab": {
          "base_uri": "https://localhost:8080/"
        },
        "id": "BbKq21SVHl1g",
        "outputId": "37a31fa6-317a-48e9-aa8c-9d61b5ecb5f1"
      },
      "execution_count": 27,
      "outputs": [
        {
          "output_type": "execute_result",
          "data": {
            "text/plain": [
              "tiket    125.748424\n",
              "dtype: float64"
            ]
          },
          "metadata": {},
          "execution_count": 27
        }
      ]
    },
    {
      "cell_type": "code",
      "source": [
        "Id  = df2[df2[\"Categoria\"] == \"Neumáticos Industriales\"] "
      ],
      "metadata": {
        "id": "uyVhNG65ImO9"
      },
      "execution_count": 28,
      "outputs": []
    },
    {
      "cell_type": "code",
      "source": [
        "Mid =Id.mean() #Media de Neumaticos Industriales. \n",
        "Mid "
      ],
      "metadata": {
        "colab": {
          "base_uri": "https://localhost:8080/"
        },
        "id": "Fu04MRt2I3Eh",
        "outputId": "0d362da7-dcc2-43bb-a8f8-881e67ae5cba"
      },
      "execution_count": 29,
      "outputs": [
        {
          "output_type": "stream",
          "name": "stderr",
          "text": [
            "/usr/local/lib/python3.7/dist-packages/ipykernel_launcher.py:1: FutureWarning: Dropping of nuisance columns in DataFrame reductions (with 'numeric_only=None') is deprecated; in a future version this will raise TypeError.  Select only valid columns before calling the reduction.\n",
            "  \"\"\"Entry point for launching an IPython kernel.\n"
          ]
        },
        {
          "output_type": "execute_result",
          "data": {
            "text/plain": [
              "tiket    59.672762\n",
              "dtype: float64"
            ]
          },
          "metadata": {},
          "execution_count": 29
        }
      ]
    },
    {
      "cell_type": "code",
      "source": [
        "ca = df2[df2[\"Categoria\"] == \"Neumáticos para Camiones\"]"
      ],
      "metadata": {
        "id": "DONkjYexQxp1"
      },
      "execution_count": 30,
      "outputs": []
    },
    {
      "cell_type": "code",
      "source": [
        "cam = ca.mean() #Media de Neumaticos Camiones. \n",
        "cam"
      ],
      "metadata": {
        "colab": {
          "base_uri": "https://localhost:8080/"
        },
        "id": "jX0kAA3hQ3wO",
        "outputId": "0ca4733e-be50-4877-ee15-8a38cd385aed"
      },
      "execution_count": 31,
      "outputs": [
        {
          "output_type": "stream",
          "name": "stderr",
          "text": [
            "/usr/local/lib/python3.7/dist-packages/ipykernel_launcher.py:1: FutureWarning: Dropping of nuisance columns in DataFrame reductions (with 'numeric_only=None') is deprecated; in a future version this will raise TypeError.  Select only valid columns before calling the reduction.\n",
            "  \"\"\"Entry point for launching an IPython kernel.\n"
          ]
        },
        {
          "output_type": "execute_result",
          "data": {
            "text/plain": [
              "tiket    162.022714\n",
              "dtype: float64"
            ]
          },
          "metadata": {},
          "execution_count": 31
        }
      ]
    },
    {
      "cell_type": "code",
      "source": [
        "ac = df2[df2[\"Categoria\"] == \"Neumáticos de Auto y Camioneta\"]"
      ],
      "metadata": {
        "id": "NCS0uT3-Wg2Y"
      },
      "execution_count": 32,
      "outputs": []
    },
    {
      "cell_type": "code",
      "source": [
        "mac = ac.mean() #Media de Neumaticos Auto y camioneta. \n",
        "mac"
      ],
      "metadata": {
        "colab": {
          "base_uri": "https://localhost:8080/"
        },
        "id": "oV__CdIoWvSN",
        "outputId": "2c81ca57-178c-43a6-b052-24b059938ae2"
      },
      "execution_count": 33,
      "outputs": [
        {
          "output_type": "stream",
          "name": "stderr",
          "text": [
            "/usr/local/lib/python3.7/dist-packages/ipykernel_launcher.py:1: FutureWarning: Dropping of nuisance columns in DataFrame reductions (with 'numeric_only=None') is deprecated; in a future version this will raise TypeError.  Select only valid columns before calling the reduction.\n",
            "  \"\"\"Entry point for launching an IPython kernel.\n"
          ]
        },
        {
          "output_type": "execute_result",
          "data": {
            "text/plain": [
              "tiket    47.518196\n",
              "dtype: float64"
            ]
          },
          "metadata": {},
          "execution_count": 33
        }
      ]
    },
    {
      "cell_type": "code",
      "source": [
        "rp = df2[df2[\"Categoria\"] == \"Ruedas para Podadoras\"]"
      ],
      "metadata": {
        "id": "7Flxdl_NXdY3"
      },
      "execution_count": 34,
      "outputs": []
    },
    {
      "cell_type": "code",
      "source": [
        "mrp = rp.mean() #Media de Neumaticos para podadoras. \n",
        "mrp"
      ],
      "metadata": {
        "colab": {
          "base_uri": "https://localhost:8080/"
        },
        "id": "ab-9huI1Xu3Y",
        "outputId": "72bedb90-b6bf-4c82-cd2e-8fa7d22a0a19"
      },
      "execution_count": 35,
      "outputs": [
        {
          "output_type": "stream",
          "name": "stderr",
          "text": [
            "/usr/local/lib/python3.7/dist-packages/ipykernel_launcher.py:1: FutureWarning: Dropping of nuisance columns in DataFrame reductions (with 'numeric_only=None') is deprecated; in a future version this will raise TypeError.  Select only valid columns before calling the reduction.\n",
            "  \"\"\"Entry point for launching an IPython kernel.\n"
          ]
        },
        {
          "output_type": "execute_result",
          "data": {
            "text/plain": [
              "tiket    8.875\n",
              "dtype: float64"
            ]
          },
          "metadata": {},
          "execution_count": 35
        }
      ]
    },
    {
      "cell_type": "code",
      "source": [
        "df[\"Categoria\"] = df[\"Categoria\"].replace({\"Neumáticos Agrícolas\" : 125.748424, \"Neumáticos Industriales\": 59.672762, \"Neumáticos para Camiones\" : 162.022714, \"Neumáticos de Auto y Camioneta\": 47.518196, \"Ruedas para Podadoras\": 8.875 })"
      ],
      "metadata": {
        "id": "SAAnJqMiG067"
      },
      "execution_count": 36,
      "outputs": []
    },
    {
      "cell_type": "code",
      "source": [
        "df"
      ],
      "metadata": {
        "colab": {
          "base_uri": "https://localhost:8080/",
          "height": 424
        },
        "id": "8oLfG-I6YA3W",
        "outputId": "a353e644-d9ba-4695-a1db-ff22b50e3417"
      },
      "execution_count": 37,
      "outputs": [
        {
          "output_type": "execute_result",
          "data": {
            "text/plain": [
              "      Marca   Categoria TipoPublicacion  Provincia  Cuotas  Unidades    tiket\n",
              "0         5  125.748424         Clásica       70.0       1         1  542.938\n",
              "1         5  125.748424         Clásica       70.0       1         1  542.938\n",
              "2         5  125.748424         Clásica       70.0       1         1  508.338\n",
              "3         4  125.748424         Clásica       70.0       1         1  361.578\n",
              "4         6   59.672762         Clásica       70.0       1         1  345.073\n",
              "...     ...         ...             ...        ...     ...       ...      ...\n",
              "1175      6    8.875000         Clásica      994.0       1         4    8.875\n",
              "1176      6    8.875000         Clásica      150.0       1         4    8.875\n",
              "1177      3   59.672762         Clásica       70.0       6         1   33.008\n",
              "1178      5  125.748424         Premium       70.0       6         2  176.241\n",
              "1179      5  125.748424         Clásica       70.0       1         1  176.241\n",
              "\n",
              "[1180 rows x 7 columns]"
            ],
            "text/html": [
              "\n",
              "  <div id=\"df-d2c2b5cc-c08b-4a80-a3e9-bd34e7e73061\">\n",
              "    <div class=\"colab-df-container\">\n",
              "      <div>\n",
              "<style scoped>\n",
              "    .dataframe tbody tr th:only-of-type {\n",
              "        vertical-align: middle;\n",
              "    }\n",
              "\n",
              "    .dataframe tbody tr th {\n",
              "        vertical-align: top;\n",
              "    }\n",
              "\n",
              "    .dataframe thead th {\n",
              "        text-align: right;\n",
              "    }\n",
              "</style>\n",
              "<table border=\"1\" class=\"dataframe\">\n",
              "  <thead>\n",
              "    <tr style=\"text-align: right;\">\n",
              "      <th></th>\n",
              "      <th>Marca</th>\n",
              "      <th>Categoria</th>\n",
              "      <th>TipoPublicacion</th>\n",
              "      <th>Provincia</th>\n",
              "      <th>Cuotas</th>\n",
              "      <th>Unidades</th>\n",
              "      <th>tiket</th>\n",
              "    </tr>\n",
              "  </thead>\n",
              "  <tbody>\n",
              "    <tr>\n",
              "      <th>0</th>\n",
              "      <td>5</td>\n",
              "      <td>125.748424</td>\n",
              "      <td>Clásica</td>\n",
              "      <td>70.0</td>\n",
              "      <td>1</td>\n",
              "      <td>1</td>\n",
              "      <td>542.938</td>\n",
              "    </tr>\n",
              "    <tr>\n",
              "      <th>1</th>\n",
              "      <td>5</td>\n",
              "      <td>125.748424</td>\n",
              "      <td>Clásica</td>\n",
              "      <td>70.0</td>\n",
              "      <td>1</td>\n",
              "      <td>1</td>\n",
              "      <td>542.938</td>\n",
              "    </tr>\n",
              "    <tr>\n",
              "      <th>2</th>\n",
              "      <td>5</td>\n",
              "      <td>125.748424</td>\n",
              "      <td>Clásica</td>\n",
              "      <td>70.0</td>\n",
              "      <td>1</td>\n",
              "      <td>1</td>\n",
              "      <td>508.338</td>\n",
              "    </tr>\n",
              "    <tr>\n",
              "      <th>3</th>\n",
              "      <td>4</td>\n",
              "      <td>125.748424</td>\n",
              "      <td>Clásica</td>\n",
              "      <td>70.0</td>\n",
              "      <td>1</td>\n",
              "      <td>1</td>\n",
              "      <td>361.578</td>\n",
              "    </tr>\n",
              "    <tr>\n",
              "      <th>4</th>\n",
              "      <td>6</td>\n",
              "      <td>59.672762</td>\n",
              "      <td>Clásica</td>\n",
              "      <td>70.0</td>\n",
              "      <td>1</td>\n",
              "      <td>1</td>\n",
              "      <td>345.073</td>\n",
              "    </tr>\n",
              "    <tr>\n",
              "      <th>...</th>\n",
              "      <td>...</td>\n",
              "      <td>...</td>\n",
              "      <td>...</td>\n",
              "      <td>...</td>\n",
              "      <td>...</td>\n",
              "      <td>...</td>\n",
              "      <td>...</td>\n",
              "    </tr>\n",
              "    <tr>\n",
              "      <th>1175</th>\n",
              "      <td>6</td>\n",
              "      <td>8.875000</td>\n",
              "      <td>Clásica</td>\n",
              "      <td>994.0</td>\n",
              "      <td>1</td>\n",
              "      <td>4</td>\n",
              "      <td>8.875</td>\n",
              "    </tr>\n",
              "    <tr>\n",
              "      <th>1176</th>\n",
              "      <td>6</td>\n",
              "      <td>8.875000</td>\n",
              "      <td>Clásica</td>\n",
              "      <td>150.0</td>\n",
              "      <td>1</td>\n",
              "      <td>4</td>\n",
              "      <td>8.875</td>\n",
              "    </tr>\n",
              "    <tr>\n",
              "      <th>1177</th>\n",
              "      <td>3</td>\n",
              "      <td>59.672762</td>\n",
              "      <td>Clásica</td>\n",
              "      <td>70.0</td>\n",
              "      <td>6</td>\n",
              "      <td>1</td>\n",
              "      <td>33.008</td>\n",
              "    </tr>\n",
              "    <tr>\n",
              "      <th>1178</th>\n",
              "      <td>5</td>\n",
              "      <td>125.748424</td>\n",
              "      <td>Premium</td>\n",
              "      <td>70.0</td>\n",
              "      <td>6</td>\n",
              "      <td>2</td>\n",
              "      <td>176.241</td>\n",
              "    </tr>\n",
              "    <tr>\n",
              "      <th>1179</th>\n",
              "      <td>5</td>\n",
              "      <td>125.748424</td>\n",
              "      <td>Clásica</td>\n",
              "      <td>70.0</td>\n",
              "      <td>1</td>\n",
              "      <td>1</td>\n",
              "      <td>176.241</td>\n",
              "    </tr>\n",
              "  </tbody>\n",
              "</table>\n",
              "<p>1180 rows × 7 columns</p>\n",
              "</div>\n",
              "      <button class=\"colab-df-convert\" onclick=\"convertToInteractive('df-d2c2b5cc-c08b-4a80-a3e9-bd34e7e73061')\"\n",
              "              title=\"Convert this dataframe to an interactive table.\"\n",
              "              style=\"display:none;\">\n",
              "        \n",
              "  <svg xmlns=\"http://www.w3.org/2000/svg\" height=\"24px\"viewBox=\"0 0 24 24\"\n",
              "       width=\"24px\">\n",
              "    <path d=\"M0 0h24v24H0V0z\" fill=\"none\"/>\n",
              "    <path d=\"M18.56 5.44l.94 2.06.94-2.06 2.06-.94-2.06-.94-.94-2.06-.94 2.06-2.06.94zm-11 1L8.5 8.5l.94-2.06 2.06-.94-2.06-.94L8.5 2.5l-.94 2.06-2.06.94zm10 10l.94 2.06.94-2.06 2.06-.94-2.06-.94-.94-2.06-.94 2.06-2.06.94z\"/><path d=\"M17.41 7.96l-1.37-1.37c-.4-.4-.92-.59-1.43-.59-.52 0-1.04.2-1.43.59L10.3 9.45l-7.72 7.72c-.78.78-.78 2.05 0 2.83L4 21.41c.39.39.9.59 1.41.59.51 0 1.02-.2 1.41-.59l7.78-7.78 2.81-2.81c.8-.78.8-2.07 0-2.86zM5.41 20L4 18.59l7.72-7.72 1.47 1.35L5.41 20z\"/>\n",
              "  </svg>\n",
              "      </button>\n",
              "      \n",
              "  <style>\n",
              "    .colab-df-container {\n",
              "      display:flex;\n",
              "      flex-wrap:wrap;\n",
              "      gap: 12px;\n",
              "    }\n",
              "\n",
              "    .colab-df-convert {\n",
              "      background-color: #E8F0FE;\n",
              "      border: none;\n",
              "      border-radius: 50%;\n",
              "      cursor: pointer;\n",
              "      display: none;\n",
              "      fill: #1967D2;\n",
              "      height: 32px;\n",
              "      padding: 0 0 0 0;\n",
              "      width: 32px;\n",
              "    }\n",
              "\n",
              "    .colab-df-convert:hover {\n",
              "      background-color: #E2EBFA;\n",
              "      box-shadow: 0px 1px 2px rgba(60, 64, 67, 0.3), 0px 1px 3px 1px rgba(60, 64, 67, 0.15);\n",
              "      fill: #174EA6;\n",
              "    }\n",
              "\n",
              "    [theme=dark] .colab-df-convert {\n",
              "      background-color: #3B4455;\n",
              "      fill: #D2E3FC;\n",
              "    }\n",
              "\n",
              "    [theme=dark] .colab-df-convert:hover {\n",
              "      background-color: #434B5C;\n",
              "      box-shadow: 0px 1px 3px 1px rgba(0, 0, 0, 0.15);\n",
              "      filter: drop-shadow(0px 1px 2px rgba(0, 0, 0, 0.3));\n",
              "      fill: #FFFFFF;\n",
              "    }\n",
              "  </style>\n",
              "\n",
              "      <script>\n",
              "        const buttonEl =\n",
              "          document.querySelector('#df-d2c2b5cc-c08b-4a80-a3e9-bd34e7e73061 button.colab-df-convert');\n",
              "        buttonEl.style.display =\n",
              "          google.colab.kernel.accessAllowed ? 'block' : 'none';\n",
              "\n",
              "        async function convertToInteractive(key) {\n",
              "          const element = document.querySelector('#df-d2c2b5cc-c08b-4a80-a3e9-bd34e7e73061');\n",
              "          const dataTable =\n",
              "            await google.colab.kernel.invokeFunction('convertToInteractive',\n",
              "                                                     [key], {});\n",
              "          if (!dataTable) return;\n",
              "\n",
              "          const docLinkHtml = 'Like what you see? Visit the ' +\n",
              "            '<a target=\"_blank\" href=https://colab.research.google.com/notebooks/data_table.ipynb>data table notebook</a>'\n",
              "            + ' to learn more about interactive tables.';\n",
              "          element.innerHTML = '';\n",
              "          dataTable['output_type'] = 'display_data';\n",
              "          await google.colab.output.renderOutput(dataTable, element);\n",
              "          const docLink = document.createElement('div');\n",
              "          docLink.innerHTML = docLinkHtml;\n",
              "          element.appendChild(docLink);\n",
              "        }\n",
              "      </script>\n",
              "    </div>\n",
              "  </div>\n",
              "  "
            ]
          },
          "metadata": {},
          "execution_count": 37
        }
      ]
    },
    {
      "cell_type": "code",
      "source": [
        "from sklearn.preprocessing import LabelEncoder\n",
        "encoder = LabelEncoder()\n",
        "df[\"TipoPublicacion\"]= encoder.fit_transform(df.TipoPublicacion.values)\n",
        "df"
      ],
      "metadata": {
        "colab": {
          "base_uri": "https://localhost:8080/",
          "height": 424
        },
        "id": "0ATeLFlRYanM",
        "outputId": "33273b7d-1793-4cf0-94c0-e2c2d728ef08"
      },
      "execution_count": 38,
      "outputs": [
        {
          "output_type": "execute_result",
          "data": {
            "text/plain": [
              "      Marca   Categoria  TipoPublicacion  Provincia  Cuotas  Unidades    tiket\n",
              "0         5  125.748424                0       70.0       1         1  542.938\n",
              "1         5  125.748424                0       70.0       1         1  542.938\n",
              "2         5  125.748424                0       70.0       1         1  508.338\n",
              "3         4  125.748424                0       70.0       1         1  361.578\n",
              "4         6   59.672762                0       70.0       1         1  345.073\n",
              "...     ...         ...              ...        ...     ...       ...      ...\n",
              "1175      6    8.875000                0      994.0       1         4    8.875\n",
              "1176      6    8.875000                0      150.0       1         4    8.875\n",
              "1177      3   59.672762                0       70.0       6         1   33.008\n",
              "1178      5  125.748424                1       70.0       6         2  176.241\n",
              "1179      5  125.748424                0       70.0       1         1  176.241\n",
              "\n",
              "[1180 rows x 7 columns]"
            ],
            "text/html": [
              "\n",
              "  <div id=\"df-ef6f845d-8ee6-47fe-b2fd-8375de2a2378\">\n",
              "    <div class=\"colab-df-container\">\n",
              "      <div>\n",
              "<style scoped>\n",
              "    .dataframe tbody tr th:only-of-type {\n",
              "        vertical-align: middle;\n",
              "    }\n",
              "\n",
              "    .dataframe tbody tr th {\n",
              "        vertical-align: top;\n",
              "    }\n",
              "\n",
              "    .dataframe thead th {\n",
              "        text-align: right;\n",
              "    }\n",
              "</style>\n",
              "<table border=\"1\" class=\"dataframe\">\n",
              "  <thead>\n",
              "    <tr style=\"text-align: right;\">\n",
              "      <th></th>\n",
              "      <th>Marca</th>\n",
              "      <th>Categoria</th>\n",
              "      <th>TipoPublicacion</th>\n",
              "      <th>Provincia</th>\n",
              "      <th>Cuotas</th>\n",
              "      <th>Unidades</th>\n",
              "      <th>tiket</th>\n",
              "    </tr>\n",
              "  </thead>\n",
              "  <tbody>\n",
              "    <tr>\n",
              "      <th>0</th>\n",
              "      <td>5</td>\n",
              "      <td>125.748424</td>\n",
              "      <td>0</td>\n",
              "      <td>70.0</td>\n",
              "      <td>1</td>\n",
              "      <td>1</td>\n",
              "      <td>542.938</td>\n",
              "    </tr>\n",
              "    <tr>\n",
              "      <th>1</th>\n",
              "      <td>5</td>\n",
              "      <td>125.748424</td>\n",
              "      <td>0</td>\n",
              "      <td>70.0</td>\n",
              "      <td>1</td>\n",
              "      <td>1</td>\n",
              "      <td>542.938</td>\n",
              "    </tr>\n",
              "    <tr>\n",
              "      <th>2</th>\n",
              "      <td>5</td>\n",
              "      <td>125.748424</td>\n",
              "      <td>0</td>\n",
              "      <td>70.0</td>\n",
              "      <td>1</td>\n",
              "      <td>1</td>\n",
              "      <td>508.338</td>\n",
              "    </tr>\n",
              "    <tr>\n",
              "      <th>3</th>\n",
              "      <td>4</td>\n",
              "      <td>125.748424</td>\n",
              "      <td>0</td>\n",
              "      <td>70.0</td>\n",
              "      <td>1</td>\n",
              "      <td>1</td>\n",
              "      <td>361.578</td>\n",
              "    </tr>\n",
              "    <tr>\n",
              "      <th>4</th>\n",
              "      <td>6</td>\n",
              "      <td>59.672762</td>\n",
              "      <td>0</td>\n",
              "      <td>70.0</td>\n",
              "      <td>1</td>\n",
              "      <td>1</td>\n",
              "      <td>345.073</td>\n",
              "    </tr>\n",
              "    <tr>\n",
              "      <th>...</th>\n",
              "      <td>...</td>\n",
              "      <td>...</td>\n",
              "      <td>...</td>\n",
              "      <td>...</td>\n",
              "      <td>...</td>\n",
              "      <td>...</td>\n",
              "      <td>...</td>\n",
              "    </tr>\n",
              "    <tr>\n",
              "      <th>1175</th>\n",
              "      <td>6</td>\n",
              "      <td>8.875000</td>\n",
              "      <td>0</td>\n",
              "      <td>994.0</td>\n",
              "      <td>1</td>\n",
              "      <td>4</td>\n",
              "      <td>8.875</td>\n",
              "    </tr>\n",
              "    <tr>\n",
              "      <th>1176</th>\n",
              "      <td>6</td>\n",
              "      <td>8.875000</td>\n",
              "      <td>0</td>\n",
              "      <td>150.0</td>\n",
              "      <td>1</td>\n",
              "      <td>4</td>\n",
              "      <td>8.875</td>\n",
              "    </tr>\n",
              "    <tr>\n",
              "      <th>1177</th>\n",
              "      <td>3</td>\n",
              "      <td>59.672762</td>\n",
              "      <td>0</td>\n",
              "      <td>70.0</td>\n",
              "      <td>6</td>\n",
              "      <td>1</td>\n",
              "      <td>33.008</td>\n",
              "    </tr>\n",
              "    <tr>\n",
              "      <th>1178</th>\n",
              "      <td>5</td>\n",
              "      <td>125.748424</td>\n",
              "      <td>1</td>\n",
              "      <td>70.0</td>\n",
              "      <td>6</td>\n",
              "      <td>2</td>\n",
              "      <td>176.241</td>\n",
              "    </tr>\n",
              "    <tr>\n",
              "      <th>1179</th>\n",
              "      <td>5</td>\n",
              "      <td>125.748424</td>\n",
              "      <td>0</td>\n",
              "      <td>70.0</td>\n",
              "      <td>1</td>\n",
              "      <td>1</td>\n",
              "      <td>176.241</td>\n",
              "    </tr>\n",
              "  </tbody>\n",
              "</table>\n",
              "<p>1180 rows × 7 columns</p>\n",
              "</div>\n",
              "      <button class=\"colab-df-convert\" onclick=\"convertToInteractive('df-ef6f845d-8ee6-47fe-b2fd-8375de2a2378')\"\n",
              "              title=\"Convert this dataframe to an interactive table.\"\n",
              "              style=\"display:none;\">\n",
              "        \n",
              "  <svg xmlns=\"http://www.w3.org/2000/svg\" height=\"24px\"viewBox=\"0 0 24 24\"\n",
              "       width=\"24px\">\n",
              "    <path d=\"M0 0h24v24H0V0z\" fill=\"none\"/>\n",
              "    <path d=\"M18.56 5.44l.94 2.06.94-2.06 2.06-.94-2.06-.94-.94-2.06-.94 2.06-2.06.94zm-11 1L8.5 8.5l.94-2.06 2.06-.94-2.06-.94L8.5 2.5l-.94 2.06-2.06.94zm10 10l.94 2.06.94-2.06 2.06-.94-2.06-.94-.94-2.06-.94 2.06-2.06.94z\"/><path d=\"M17.41 7.96l-1.37-1.37c-.4-.4-.92-.59-1.43-.59-.52 0-1.04.2-1.43.59L10.3 9.45l-7.72 7.72c-.78.78-.78 2.05 0 2.83L4 21.41c.39.39.9.59 1.41.59.51 0 1.02-.2 1.41-.59l7.78-7.78 2.81-2.81c.8-.78.8-2.07 0-2.86zM5.41 20L4 18.59l7.72-7.72 1.47 1.35L5.41 20z\"/>\n",
              "  </svg>\n",
              "      </button>\n",
              "      \n",
              "  <style>\n",
              "    .colab-df-container {\n",
              "      display:flex;\n",
              "      flex-wrap:wrap;\n",
              "      gap: 12px;\n",
              "    }\n",
              "\n",
              "    .colab-df-convert {\n",
              "      background-color: #E8F0FE;\n",
              "      border: none;\n",
              "      border-radius: 50%;\n",
              "      cursor: pointer;\n",
              "      display: none;\n",
              "      fill: #1967D2;\n",
              "      height: 32px;\n",
              "      padding: 0 0 0 0;\n",
              "      width: 32px;\n",
              "    }\n",
              "\n",
              "    .colab-df-convert:hover {\n",
              "      background-color: #E2EBFA;\n",
              "      box-shadow: 0px 1px 2px rgba(60, 64, 67, 0.3), 0px 1px 3px 1px rgba(60, 64, 67, 0.15);\n",
              "      fill: #174EA6;\n",
              "    }\n",
              "\n",
              "    [theme=dark] .colab-df-convert {\n",
              "      background-color: #3B4455;\n",
              "      fill: #D2E3FC;\n",
              "    }\n",
              "\n",
              "    [theme=dark] .colab-df-convert:hover {\n",
              "      background-color: #434B5C;\n",
              "      box-shadow: 0px 1px 3px 1px rgba(0, 0, 0, 0.15);\n",
              "      filter: drop-shadow(0px 1px 2px rgba(0, 0, 0, 0.3));\n",
              "      fill: #FFFFFF;\n",
              "    }\n",
              "  </style>\n",
              "\n",
              "      <script>\n",
              "        const buttonEl =\n",
              "          document.querySelector('#df-ef6f845d-8ee6-47fe-b2fd-8375de2a2378 button.colab-df-convert');\n",
              "        buttonEl.style.display =\n",
              "          google.colab.kernel.accessAllowed ? 'block' : 'none';\n",
              "\n",
              "        async function convertToInteractive(key) {\n",
              "          const element = document.querySelector('#df-ef6f845d-8ee6-47fe-b2fd-8375de2a2378');\n",
              "          const dataTable =\n",
              "            await google.colab.kernel.invokeFunction('convertToInteractive',\n",
              "                                                     [key], {});\n",
              "          if (!dataTable) return;\n",
              "\n",
              "          const docLinkHtml = 'Like what you see? Visit the ' +\n",
              "            '<a target=\"_blank\" href=https://colab.research.google.com/notebooks/data_table.ipynb>data table notebook</a>'\n",
              "            + ' to learn more about interactive tables.';\n",
              "          element.innerHTML = '';\n",
              "          dataTable['output_type'] = 'display_data';\n",
              "          await google.colab.output.renderOutput(dataTable, element);\n",
              "          const docLink = document.createElement('div');\n",
              "          docLink.innerHTML = docLinkHtml;\n",
              "          element.appendChild(docLink);\n",
              "        }\n",
              "      </script>\n",
              "    </div>\n",
              "  </div>\n",
              "  "
            ]
          },
          "metadata": {},
          "execution_count": 38
        }
      ]
    },
    {
      "cell_type": "code",
      "source": [
        "corrmat = df.corr()\n",
        "sns.heatmap(corrmat, annot = True)"
      ],
      "metadata": {
        "colab": {
          "base_uri": "https://localhost:8080/",
          "height": 354
        },
        "id": "GwtsH8coa0YL",
        "outputId": "dbfc09a9-3923-4952-8cbd-499b1b154bd8"
      },
      "execution_count": 39,
      "outputs": [
        {
          "output_type": "execute_result",
          "data": {
            "text/plain": [
              "<matplotlib.axes._subplots.AxesSubplot at 0x7fd7c6347510>"
            ]
          },
          "metadata": {},
          "execution_count": 39
        },
        {
          "output_type": "display_data",
          "data": {
            "text/plain": [
              "<Figure size 432x288 with 2 Axes>"
            ],
            "image/png": "[encoded data removed]"
          },
          "metadata": {
            "needs_background": "light"
          }
        }
      ]
    },
    {
      "cell_type": "code",
      "source": [
        "df.isnull().sum()"
      ],
      "metadata": {
        "colab": {
          "base_uri": "https://localhost:8080/"
        },
        "id": "1UPf_97raXZq",
        "outputId": "ff626fac-d599-468e-89c9-13af01e5cdf8"
      },
      "execution_count": 40,
      "outputs": [
        {
          "output_type": "execute_result",
          "data": {
            "text/plain": [
              "Marca              0\n",
              "Categoria          0\n",
              "TipoPublicacion    0\n",
              "Provincia          0\n",
              "Cuotas             0\n",
              "Unidades           0\n",
              "tiket              0\n",
              "dtype: int64"
            ]
          },
          "metadata": {},
          "execution_count": 40
        }
      ]
    },
    {
      "cell_type": "code",
      "source": [
        "from sklearn import preprocessing\n",
        "scaler= preprocessing.StandardScaler()\n",
        "df[['Marca', 'Categoria', 'tiket', 'TipoPublicacion',\n",
        "       'Provincia', 'Cuotas', 'Unidades']]=scaler.fit_transform(df[['Marca', 'Categoria', 'tiket', 'TipoPublicacion',\n",
        "       'Provincia', 'Cuotas', 'Unidades']])"
      ],
      "metadata": {
        "id": "srxkJQ6eaiGg"
      },
      "execution_count": 41,
      "outputs": []
    },
    {
      "cell_type": "code",
      "source": [
        "df"
      ],
      "metadata": {
        "colab": {
          "base_uri": "https://localhost:8080/",
          "height": 424
        },
        "id": "_EHZ4NyIalPV",
        "outputId": "d8c0f0a8-fb94-4017-d028-aa6f317ddf5c"
      },
      "execution_count": 42,
      "outputs": [
        {
          "output_type": "execute_result",
          "data": {
            "text/plain": [
              "         Marca  Categoria  TipoPublicacion  Provincia    Cuotas  Unidades  \\\n",
              "0     2.324583   3.132538        -0.803583  -0.723880 -0.596994 -0.751163   \n",
              "1     2.324583   3.132538        -0.803583  -0.723880 -0.596994 -0.751163   \n",
              "2     2.324583   3.132538        -0.803583  -0.723880 -0.596994 -0.751163   \n",
              "3     1.508212   3.132538        -0.803583  -0.723880 -0.596994 -0.751163   \n",
              "4     3.140955   0.195487        -0.803583  -0.723880 -0.596994 -0.751163   \n",
              "...        ...        ...              ...        ...       ...       ...   \n",
              "1175  3.140955  -2.062465        -0.803583   1.846897 -0.596994  4.577728   \n",
              "1176  3.140955  -2.062465        -0.803583  -0.501302 -0.596994  4.577728   \n",
              "1177  0.691840   0.195487        -0.803583  -0.723880  0.508203 -0.751163   \n",
              "1178  2.324583   3.132538         1.244426  -0.723880  0.508203  1.025134   \n",
              "1179  2.324583   3.132538        -0.803583  -0.723880 -0.596994 -0.751163   \n",
              "\n",
              "          tiket  \n",
              "0     10.911493  \n",
              "1     10.911493  \n",
              "2     10.137316  \n",
              "3      6.853552  \n",
              "4      6.484252  \n",
              "...         ...  \n",
              "1175  -1.038199  \n",
              "1176  -1.038199  \n",
              "1177  -0.498222  \n",
              "1178   2.706625  \n",
              "1179   2.706625  \n",
              "\n",
              "[1180 rows x 7 columns]"
            ],
            "text/html": [
              "\n",
              "  <div id=\"df-5b28edeb-8ba1-463c-9e83-9e31d5f4e82a\">\n",
              "    <div class=\"colab-df-container\">\n",
              "      <div>\n",
              "<style scoped>\n",
              "    .dataframe tbody tr th:only-of-type {\n",
              "        vertical-align: middle;\n",
              "    }\n",
              "\n",
              "    .dataframe tbody tr th {\n",
              "        vertical-align: top;\n",
              "    }\n",
              "\n",
              "    .dataframe thead th {\n",
              "        text-align: right;\n",
              "    }\n",
              "</style>\n",
              "<table border=\"1\" class=\"dataframe\">\n",
              "  <thead>\n",
              "    <tr style=\"text-align: right;\">\n",
              "      <th></th>\n",
              "      <th>Marca</th>\n",
              "      <th>Categoria</th>\n",
              "      <th>TipoPublicacion</th>\n",
              "      <th>Provincia</th>\n",
              "      <th>Cuotas</th>\n",
              "      <th>Unidades</th>\n",
              "      <th>tiket</th>\n",
              "    </tr>\n",
              "  </thead>\n",
              "  <tbody>\n",
              "    <tr>\n",
              "      <th>0</th>\n",
              "      <td>2.324583</td>\n",
              "      <td>3.132538</td>\n",
              "      <td>-0.803583</td>\n",
              "      <td>-0.723880</td>\n",
              "      <td>-0.596994</td>\n",
              "      <td>-0.751163</td>\n",
              "      <td>10.911493</td>\n",
              "    </tr>\n",
              "    <tr>\n",
              "      <th>1</th>\n",
              "      <td>2.324583</td>\n",
              "      <td>3.132538</td>\n",
              "      <td>-0.803583</td>\n",
              "      <td>-0.723880</td>\n",
              "      <td>-0.596994</td>\n",
              "      <td>-0.751163</td>\n",
              "      <td>10.911493</td>\n",
              "    </tr>\n",
              "    <tr>\n",
              "      <th>2</th>\n",
              "      <td>2.324583</td>\n",
              "      <td>3.132538</td>\n",
              "      <td>-0.803583</td>\n",
              "      <td>-0.723880</td>\n",
              "      <td>-0.596994</td>\n",
              "      <td>-0.751163</td>\n",
              "      <td>10.137316</td>\n",
              "    </tr>\n",
              "    <tr>\n",
              "      <th>3</th>\n",
              "      <td>1.508212</td>\n",
              "      <td>3.132538</td>\n",
              "      <td>-0.803583</td>\n",
              "      <td>-0.723880</td>\n",
              "      <td>-0.596994</td>\n",
              "      <td>-0.751163</td>\n",
              "      <td>6.853552</td>\n",
              "    </tr>\n",
              "    <tr>\n",
              "      <th>4</th>\n",
              "      <td>3.140955</td>\n",
              "      <td>0.195487</td>\n",
              "      <td>-0.803583</td>\n",
              "      <td>-0.723880</td>\n",
              "      <td>-0.596994</td>\n",
              "      <td>-0.751163</td>\n",
              "      <td>6.484252</td>\n",
              "    </tr>\n",
              "    <tr>\n",
              "      <th>...</th>\n",
              "      <td>...</td>\n",
              "      <td>...</td>\n",
              "      <td>...</td>\n",
              "      <td>...</td>\n",
              "      <td>...</td>\n",
              "      <td>...</td>\n",
              "      <td>...</td>\n",
              "    </tr>\n",
              "    <tr>\n",
              "      <th>1175</th>\n",
              "      <td>3.140955</td>\n",
              "      <td>-2.062465</td>\n",
              "      <td>-0.803583</td>\n",
              "      <td>1.846897</td>\n",
              "      <td>-0.596994</td>\n",
              "      <td>4.577728</td>\n",
              "      <td>-1.038199</td>\n",
              "    </tr>\n",
              "    <tr>\n",
              "      <th>1176</th>\n",
              "      <td>3.140955</td>\n",
              "      <td>-2.062465</td>\n",
              "      <td>-0.803583</td>\n",
              "      <td>-0.501302</td>\n",
              "      <td>-0.596994</td>\n",
              "      <td>4.577728</td>\n",
              "      <td>-1.038199</td>\n",
              "    </tr>\n",
              "    <tr>\n",
              "      <th>1177</th>\n",
              "      <td>0.691840</td>\n",
              "      <td>0.195487</td>\n",
              "      <td>-0.803583</td>\n",
              "      <td>-0.723880</td>\n",
              "      <td>0.508203</td>\n",
              "      <td>-0.751163</td>\n",
              "      <td>-0.498222</td>\n",
              "    </tr>\n",
              "    <tr>\n",
              "      <th>1178</th>\n",
              "      <td>2.324583</td>\n",
              "      <td>3.132538</td>\n",
              "      <td>1.244426</td>\n",
              "      <td>-0.723880</td>\n",
              "      <td>0.508203</td>\n",
              "      <td>1.025134</td>\n",
              "      <td>2.706625</td>\n",
              "    </tr>\n",
              "    <tr>\n",
              "      <th>1179</th>\n",
              "      <td>2.324583</td>\n",
              "      <td>3.132538</td>\n",
              "      <td>-0.803583</td>\n",
              "      <td>-0.723880</td>\n",
              "      <td>-0.596994</td>\n",
              "      <td>-0.751163</td>\n",
              "      <td>2.706625</td>\n",
              "    </tr>\n",
              "  </tbody>\n",
              "</table>\n",
              "<p>1180 rows × 7 columns</p>\n",
              "</div>\n",
              "      <button class=\"colab-df-convert\" onclick=\"convertToInteractive('df-5b28edeb-8ba1-463c-9e83-9e31d5f4e82a')\"\n",
              "              title=\"Convert this dataframe to an interactive table.\"\n",
              "              style=\"display:none;\">\n",
              "        \n",
              "  <svg xmlns=\"http://www.w3.org/2000/svg\" height=\"24px\"viewBox=\"0 0 24 24\"\n",
              "       width=\"24px\">\n",
              "    <path d=\"M0 0h24v24H0V0z\" fill=\"none\"/>\n",
              "    <path d=\"M18.56 5.44l.94 2.06.94-2.06 2.06-.94-2.06-.94-.94-2.06-.94 2.06-2.06.94zm-11 1L8.5 8.5l.94-2.06 2.06-.94-2.06-.94L8.5 2.5l-.94 2.06-2.06.94zm10 10l.94 2.06.94-2.06 2.06-.94-2.06-.94-.94-2.06-.94 2.06-2.06.94z\"/><path d=\"M17.41 7.96l-1.37-1.37c-.4-.4-.92-.59-1.43-.59-.52 0-1.04.2-1.43.59L10.3 9.45l-7.72 7.72c-.78.78-.78 2.05 0 2.83L4 21.41c.39.39.9.59 1.41.59.51 0 1.02-.2 1.41-.59l7.78-7.78 2.81-2.81c.8-.78.8-2.07 0-2.86zM5.41 20L4 18.59l7.72-7.72 1.47 1.35L5.41 20z\"/>\n",
              "  </svg>\n",
              "      </button>\n",
              "      \n",
              "  <style>\n",
              "    .colab-df-container {\n",
              "      display:flex;\n",
              "      flex-wrap:wrap;\n",
              "      gap: 12px;\n",
              "    }\n",
              "\n",
              "    .colab-df-convert {\n",
              "      background-color: #E8F0FE;\n",
              "      border: none;\n",
              "      border-radius: 50%;\n",
              "      cursor: pointer;\n",
              "      display: none;\n",
              "      fill: #1967D2;\n",
              "      height: 32px;\n",
              "      padding: 0 0 0 0;\n",
              "      width: 32px;\n",
              "    }\n",
              "\n",
              "    .colab-df-convert:hover {\n",
              "      background-color: #E2EBFA;\n",
              "      box-shadow: 0px 1px 2px rgba(60, 64, 67, 0.3), 0px 1px 3px 1px rgba(60, 64, 67, 0.15);\n",
              "      fill: #174EA6;\n",
              "    }\n",
              "\n",
              "    [theme=dark] .colab-df-convert {\n",
              "      background-color: #3B4455;\n",
              "      fill: #D2E3FC;\n",
              "    }\n",
              "\n",
              "    [theme=dark] .colab-df-convert:hover {\n",
              "      background-color: #434B5C;\n",
              "      box-shadow: 0px 1px 3px 1px rgba(0, 0, 0, 0.15);\n",
              "      filter: drop-shadow(0px 1px 2px rgba(0, 0, 0, 0.3));\n",
              "      fill: #FFFFFF;\n",
              "    }\n",
              "  </style>\n",
              "\n",
              "      <script>\n",
              "        const buttonEl =\n",
              "          document.querySelector('#df-5b28edeb-8ba1-463c-9e83-9e31d5f4e82a button.colab-df-convert');\n",
              "        buttonEl.style.display =\n",
              "          google.colab.kernel.accessAllowed ? 'block' : 'none';\n",
              "\n",
              "        async function convertToInteractive(key) {\n",
              "          const element = document.querySelector('#df-5b28edeb-8ba1-463c-9e83-9e31d5f4e82a');\n",
              "          const dataTable =\n",
              "            await google.colab.kernel.invokeFunction('convertToInteractive',\n",
              "                                                     [key], {});\n",
              "          if (!dataTable) return;\n",
              "\n",
              "          const docLinkHtml = 'Like what you see? Visit the ' +\n",
              "            '<a target=\"_blank\" href=https://colab.research.google.com/notebooks/data_table.ipynb>data table notebook</a>'\n",
              "            + ' to learn more about interactive tables.';\n",
              "          element.innerHTML = '';\n",
              "          dataTable['output_type'] = 'display_data';\n",
              "          await google.colab.output.renderOutput(dataTable, element);\n",
              "          const docLink = document.createElement('div');\n",
              "          docLink.innerHTML = docLinkHtml;\n",
              "          element.appendChild(docLink);\n",
              "        }\n",
              "      </script>\n",
              "    </div>\n",
              "  </div>\n",
              "  "
            ]
          },
          "metadata": {},
          "execution_count": 42
        }
      ]
    },
    {
      "cell_type": "code",
      "source": [
        "wcss = []\n",
        "\n",
        "for i in range(1, 20):\n",
        "  kmeans = KMeans(n_clusters= i, max_iter = 300)\n",
        "  kmeans.fit(df)\n",
        "  wcss.append(kmeans.inertia_)\n",
        "plt.plot(range(1,20), wcss)\n",
        "plt.xlabel(\"Número de Clusters\")\n",
        "plt.title(\"METODO DE CODO\")"
      ],
      "metadata": {
        "colab": {
          "base_uri": "https://localhost:8080/",
          "height": 312
        },
        "id": "KllIQ0jZa9tI",
        "outputId": "418281f4-ea62-4253-f5eb-26533ba576bf"
      },
      "execution_count": 43,
      "outputs": [
        {
          "output_type": "execute_result",
          "data": {
            "text/plain": [
              "Text(0.5, 1.0, 'METODO DE CODO')"
            ]
          },
          "metadata": {},
          "execution_count": 43
        },
        {
          "output_type": "display_data",
          "data": {
            "text/plain": [
              "<Figure size 432x288 with 1 Axes>"
            ],
            "image/png": "[encoded data removed]"
          },
          "metadata": {
            "needs_background": "light"
          }
        }
      ]
    },
    {
      "cell_type": "code",
      "source": [
        "kmeans = KMeans(n_clusters=3).fit(df)\n",
        "centroids = kmeans.cluster_centers_\n",
        "labels = kmeans.labels_"
      ],
      "metadata": {
        "id": "UuvT8DSJbCIw"
      },
      "execution_count": 44,
      "outputs": []
    },
    {
      "cell_type": "code",
      "source": [
        "centroids"
      ],
      "metadata": {
        "colab": {
          "base_uri": "https://localhost:8080/"
        },
        "id": "IfKBq8_UbEfF",
        "outputId": "1925813d-be71-4a85-d939-d0bd68a59906"
      },
      "execution_count": 45,
      "outputs": [
        {
          "output_type": "execute_result",
          "data": {
            "text/plain": [
              "array([[-0.29591398, -0.30475458,  1.22131079,  0.08516771,  0.82903506,\n",
              "        -0.05748482, -0.16156333],\n",
              "       [-0.07128963, -0.2360221 , -0.80358333,  0.04219536, -0.53383979,\n",
              "         0.01286548, -0.17153431],\n",
              "       [ 1.90323025,  3.08607001, -0.25304318, -0.69788287, -0.25236247,\n",
              "         0.18473552,  1.95742636]])"
            ]
          },
          "metadata": {},
          "execution_count": 45
        }
      ]
    },
    {
      "cell_type": "code",
      "source": [
        "df[\"lb\"]=labels"
      ],
      "metadata": {
        "id": "pL48Fyt-bHF8"
      },
      "execution_count": 46,
      "outputs": []
    },
    {
      "cell_type": "code",
      "source": [
        "grafica6= df[\"lb\"].value_counts().plot(kind=\"bar\", color = colores, figsize= (10,10));\n",
        "plt.title(\"Grafico de barras en relacion a labels.\", color = 'black',\n",
        "                    size = 18) "
      ],
      "metadata": {
        "colab": {
          "base_uri": "https://localhost:8080/",
          "height": 625
        },
        "id": "64LYPTd-bKMx",
        "outputId": "dda5d338-5e73-4cd6-b053-4ee61bf4f4d5"
      },
      "execution_count": 47,
      "outputs": [
        {
          "output_type": "execute_result",
          "data": {
            "text/plain": [
              "Text(0.5, 1.0, 'Grafico de barras en relacion a labels.')"
            ]
          },
          "metadata": {},
          "execution_count": 47
        },
        {
          "output_type": "display_data",
          "data": {
            "text/plain": [
              "<Figure size 720x720 with 1 Axes>"
            ],
            "image/png": "[encoded data removed]"
          },
          "metadata": {
            "needs_background": "light"
          }
        }
      ]
    },
    {
      "cell_type": "code",
      "source": [
        "X = pd.DataFrame(df, columns=[\"Marca\",\"Categoria\",\"TipoPublicacion\",\"Provincia\", \"Cuotas\",\"Unidades\", \"tiket\"])\n",
        "y = pd.DataFrame(df, columns=[\"lb\"])\n"
      ],
      "metadata": {
        "id": "xfiYrBfubQHV"
      },
      "execution_count": 48,
      "outputs": []
    },
    {
      "cell_type": "code",
      "source": [
        "X_train, X_test, y_train, y_test = train_test_split(X, y,  test_size=0.25,\n",
        "                                                      random_state=0)"
      ],
      "metadata": {
        "id": "rc9ROny6bTDp"
      },
      "execution_count": 49,
      "outputs": []
    },
    {
      "cell_type": "code",
      "source": [
        "from imblearn.under_sampling import NearMiss\n",
        "from collections import Counter\n",
        "\n",
        "us = NearMiss(n_neighbors=3, version=2)\n",
        "X_train_res, y_train_res = us.fit_resample(X_train, y_train)"
      ],
      "metadata": {
        "id": "utP2r6QdbV2S"
      },
      "execution_count": 50,
      "outputs": []
    },
    {
      "cell_type": "markdown",
      "source": [
        "#Arboles de decision. "
      ],
      "metadata": {
        "id": "pj3xuK3zbaSi"
      }
    },
    {
      "cell_type": "code",
      "source": [
        "add = DecisionTreeClassifier(max_depth=4)\n",
        "add.fit(X_train_res, y_train_res)\n"
      ],
      "metadata": {
        "colab": {
          "base_uri": "https://localhost:8080/"
        },
        "id": "PS3gOO6vbZiw",
        "outputId": "fbe07911-0d85-4ca0-d62e-86ffdda9b49d"
      },
      "execution_count": 51,
      "outputs": [
        {
          "output_type": "execute_result",
          "data": {
            "text/plain": [
              "DecisionTreeClassifier(max_depth=4)"
            ]
          },
          "metadata": {},
          "execution_count": 51
        }
      ]
    },
    {
      "cell_type": "code",
      "source": [
        "predadd = add.predict(X_test)\n",
        "predadd"
      ],
      "metadata": {
        "colab": {
          "base_uri": "https://localhost:8080/"
        },
        "id": "s1Rf2l5UbrwF",
        "outputId": "e523e1ae-c730-4e58-c921-c60cfdbf7a93"
      },
      "execution_count": 52,
      "outputs": [
        {
          "output_type": "execute_result",
          "data": {
            "text/plain": [
              "array([0, 1, 2, 1, 1, 1, 0, 0, 1, 1, 2, 1, 1, 2, 1, 1, 0, 0, 0, 0, 1, 0,\n",
              "       0, 1, 1, 1, 0, 2, 1, 1, 2, 0, 1, 0, 1, 1, 1, 0, 1, 0, 0, 1, 0, 0,\n",
              "       1, 1, 0, 0, 1, 0, 1, 1, 1, 1, 0, 1, 1, 1, 2, 1, 1, 1, 2, 1, 0, 1,\n",
              "       0, 0, 1, 1, 1, 0, 1, 0, 0, 0, 1, 0, 0, 0, 1, 1, 2, 2, 0, 0, 1, 1,\n",
              "       1, 1, 0, 1, 1, 1, 1, 1, 0, 0, 1, 2, 0, 1, 1, 1, 0, 0, 0, 0, 1, 1,\n",
              "       1, 1, 0, 1, 0, 0, 1, 1, 1, 2, 0, 1, 1, 1, 0, 0, 2, 0, 0, 1, 1, 1,\n",
              "       1, 0, 0, 1, 1, 1, 2, 0, 0, 2, 2, 1, 1, 1, 1, 2, 2, 0, 0, 0, 0, 0,\n",
              "       0, 1, 1, 2, 1, 1, 1, 1, 0, 0, 1, 0, 0, 1, 0, 1, 1, 0, 0, 0, 1, 1,\n",
              "       1, 0, 1, 1, 0, 1, 0, 1, 1, 0, 0, 0, 0, 0, 1, 1, 1, 2, 0, 1, 0, 1,\n",
              "       0, 1, 0, 1, 1, 0, 1, 0, 0, 1, 0, 0, 0, 1, 1, 1, 1, 0, 2, 0, 1, 2,\n",
              "       2, 1, 0, 2, 1, 1, 1, 1, 0, 0, 1, 1, 1, 0, 1, 1, 0, 1, 1, 2, 0, 0,\n",
              "       1, 0, 0, 1, 0, 0, 2, 1, 1, 0, 1, 0, 1, 1, 1, 1, 0, 0, 0, 0, 0, 1,\n",
              "       1, 0, 1, 1, 0, 0, 0, 1, 0, 0, 1, 1, 1, 0, 1, 0, 0, 1, 2, 1, 2, 1,\n",
              "       0, 1, 1, 1, 1, 1, 1, 1, 1], dtype=int32)"
            ]
          },
          "metadata": {},
          "execution_count": 52
        }
      ]
    },
    {
      "cell_type": "code",
      "source": [
        "matrizadd = confusion_matrix(y_test, predadd) \n",
        "sns.color_palette('icefire')\n",
        "sns.heatmap(matrizadd, annot=True, fmt='d')\n",
        "plt.show()\n",
        "print(matrizadd)"
      ],
      "metadata": {
        "colab": {
          "base_uri": "https://localhost:8080/",
          "height": 317
        },
        "id": "IQwModoQbul-",
        "outputId": "7ac69df1-7ecf-4a04-f078-63e735c96d97"
      },
      "execution_count": 53,
      "outputs": [
        {
          "output_type": "display_data",
          "data": {
            "text/plain": [
              "<Figure size 432x288 with 2 Axes>"
            ],
            "image/png": "[encoded data removed]"
          },
          "metadata": {
            "needs_background": "light"
          }
        },
        {
          "output_type": "stream",
          "name": "stdout",
          "text": [
            "[[115   0   0]\n",
            " [  0 153   0]\n",
            " [  0   0  27]]\n"
          ]
        }
      ]
    },
    {
      "cell_type": "code",
      "source": [
        "reporte1 = classification_report(y_test, predadd)\n",
        "print(reporte1)"
      ],
      "metadata": {
        "colab": {
          "base_uri": "https://localhost:8080/"
        },
        "id": "kmLq7Twlb3CD",
        "outputId": "bc42ae7b-bd8c-474b-893c-57dafe3a39d2"
      },
      "execution_count": 54,
      "outputs": [
        {
          "output_type": "stream",
          "name": "stdout",
          "text": [
            "              precision    recall  f1-score   support\n",
            "\n",
            "           0       1.00      1.00      1.00       115\n",
            "           1       1.00      1.00      1.00       153\n",
            "           2       1.00      1.00      1.00        27\n",
            "\n",
            "    accuracy                           1.00       295\n",
            "   macro avg       1.00      1.00      1.00       295\n",
            "weighted avg       1.00      1.00      1.00       295\n",
            "\n"
          ]
        }
      ]
    },
    {
      "cell_type": "markdown",
      "source": [
        "#Bayes Ingenuos "
      ],
      "metadata": {
        "id": "Jj_6zONQb-Gj"
      }
    },
    {
      "cell_type": "code",
      "source": [
        "from sklearn.naive_bayes import GaussianNB"
      ],
      "metadata": {
        "id": "PqIVBNoTb9Lm"
      },
      "execution_count": 55,
      "outputs": []
    },
    {
      "cell_type": "code",
      "source": [
        "gaun = GaussianNB()"
      ],
      "metadata": {
        "id": "iy-QjPoMcGfa"
      },
      "execution_count": 56,
      "outputs": []
    },
    {
      "cell_type": "code",
      "source": [
        "gaun = gaun.fit(X_train_res, y_train_res)"
      ],
      "metadata": {
        "colab": {
          "base_uri": "https://localhost:8080/"
        },
        "id": "ZHHltVTmcITy",
        "outputId": "8be2472c-9349-4ce0-92c2-23887456a5f3"
      },
      "execution_count": 57,
      "outputs": [
        {
          "output_type": "stream",
          "name": "stderr",
          "text": [
            "/usr/local/lib/python3.7/dist-packages/sklearn/utils/validation.py:993: DataConversionWarning: A column-vector y was passed when a 1d array was expected. Please change the shape of y to (n_samples, ), for example using ravel().\n",
            "  y = column_or_1d(y, warn=True)\n"
          ]
        }
      ]
    },
    {
      "cell_type": "code",
      "source": [
        "pregaun = gaun.predict(X_test)\n",
        "pregaun"
      ],
      "metadata": {
        "colab": {
          "base_uri": "https://localhost:8080/"
        },
        "id": "YfwwPlDJcLoj",
        "outputId": "ef4d67a1-00fd-4ed6-fb09-21c71451cda8"
      },
      "execution_count": 58,
      "outputs": [
        {
          "output_type": "execute_result",
          "data": {
            "text/plain": [
              "array([0, 1, 2, 1, 1, 1, 0, 0, 1, 1, 2, 1, 1, 2, 1, 1, 0, 0, 0, 0, 1, 0,\n",
              "       0, 2, 1, 1, 0, 2, 1, 1, 1, 0, 1, 0, 1, 1, 1, 0, 1, 2, 0, 1, 0, 0,\n",
              "       1, 1, 0, 0, 1, 0, 1, 1, 1, 1, 0, 1, 1, 1, 2, 1, 1, 1, 2, 1, 0, 1,\n",
              "       0, 0, 1, 1, 1, 0, 1, 0, 0, 0, 1, 0, 0, 0, 1, 1, 0, 2, 0, 0, 1, 1,\n",
              "       1, 1, 0, 1, 1, 1, 1, 1, 0, 0, 1, 2, 0, 1, 1, 1, 0, 0, 0, 0, 1, 1,\n",
              "       1, 1, 0, 1, 0, 0, 1, 1, 1, 2, 0, 1, 1, 1, 0, 0, 2, 0, 0, 1, 1, 1,\n",
              "       1, 0, 0, 1, 1, 1, 2, 0, 0, 2, 2, 1, 1, 1, 1, 2, 2, 0, 0, 0, 0, 0,\n",
              "       0, 1, 1, 2, 1, 1, 1, 1, 0, 0, 1, 0, 0, 1, 0, 1, 1, 0, 0, 0, 1, 1,\n",
              "       1, 0, 1, 1, 0, 1, 0, 1, 1, 0, 0, 0, 0, 0, 1, 1, 1, 2, 0, 1, 0, 1,\n",
              "       0, 1, 2, 1, 1, 0, 1, 0, 0, 1, 0, 0, 0, 1, 1, 1, 1, 0, 2, 0, 1, 2,\n",
              "       2, 1, 0, 2, 1, 1, 1, 1, 0, 0, 1, 1, 1, 0, 1, 1, 0, 1, 1, 2, 0, 0,\n",
              "       1, 0, 0, 1, 0, 0, 2, 1, 1, 0, 1, 0, 1, 1, 1, 1, 0, 0, 0, 0, 0, 1,\n",
              "       1, 0, 1, 1, 0, 0, 0, 1, 0, 0, 1, 1, 1, 0, 1, 0, 0, 1, 2, 1, 2, 1,\n",
              "       0, 1, 1, 1, 1, 1, 1, 1, 1], dtype=int32)"
            ]
          },
          "metadata": {},
          "execution_count": 58
        }
      ]
    },
    {
      "cell_type": "code",
      "source": [
        "matrizgaun = confusion_matrix(y_test, pregaun) \n",
        "sns.color_palette('icefire')\n",
        "sns.heatmap(matrizgaun, annot=True, fmt='d')\n",
        "plt.show()"
      ],
      "metadata": {
        "colab": {
          "base_uri": "https://localhost:8080/",
          "height": 265
        },
        "id": "NL1_6lXZcNs5",
        "outputId": "d6ca7b4c-19e9-4d06-fca9-1460c547a467"
      },
      "execution_count": 59,
      "outputs": [
        {
          "output_type": "display_data",
          "data": {
            "text/plain": [
              "<Figure size 432x288 with 2 Axes>"
            ],
            "image/png": "[encoded data removed]"
          },
          "metadata": {
            "needs_background": "light"
          }
        }
      ]
    },
    {
      "cell_type": "code",
      "source": [
        "reporte2 = classification_report(y_test, pregaun)\n",
        "print(reporte2)"
      ],
      "metadata": {
        "colab": {
          "base_uri": "https://localhost:8080/"
        },
        "id": "AYj3f6nFcQs5",
        "outputId": "93f77de0-ea97-4e43-8754-17cb0aebae0c"
      },
      "execution_count": 60,
      "outputs": [
        {
          "output_type": "stream",
          "name": "stdout",
          "text": [
            "              precision    recall  f1-score   support\n",
            "\n",
            "           0       0.99      0.98      0.99       115\n",
            "           1       0.99      0.99      0.99       153\n",
            "           2       0.89      0.93      0.91        27\n",
            "\n",
            "    accuracy                           0.98       295\n",
            "   macro avg       0.96      0.97      0.96       295\n",
            "weighted avg       0.98      0.98      0.98       295\n",
            "\n"
          ]
        }
      ]
    },
    {
      "cell_type": "markdown",
      "source": [
        "#Vecinos Cercanos "
      ],
      "metadata": {
        "id": "BHbrbHofcUJ7"
      }
    },
    {
      "cell_type": "code",
      "source": [
        "from sklearn.neighbors import KNeighborsClassifier \n",
        "knn = KNeighborsClassifier(n_neighbors=3)\n"
      ],
      "metadata": {
        "id": "OQyTTpG9cVtL"
      },
      "execution_count": 61,
      "outputs": []
    },
    {
      "cell_type": "code",
      "source": [
        "knn.fit(X_train_res, y_train_res)"
      ],
      "metadata": {
        "colab": {
          "base_uri": "https://localhost:8080/"
        },
        "id": "9JWS15X2cZyi",
        "outputId": "63eb3c97-c83e-4a4d-e6cf-fa3c486be4b9"
      },
      "execution_count": 62,
      "outputs": [
        {
          "output_type": "stream",
          "name": "stderr",
          "text": [
            "/usr/local/lib/python3.7/dist-packages/sklearn/neighbors/_classification.py:198: DataConversionWarning: A column-vector y was passed when a 1d array was expected. Please change the shape of y to (n_samples,), for example using ravel().\n",
            "  return self._fit(X, y)\n"
          ]
        },
        {
          "output_type": "execute_result",
          "data": {
            "text/plain": [
              "KNeighborsClassifier(n_neighbors=3)"
            ]
          },
          "metadata": {},
          "execution_count": 62
        }
      ]
    },
    {
      "cell_type": "code",
      "source": [
        "preknn = knn.predict(X_test)\n",
        "preknn"
      ],
      "metadata": {
        "colab": {
          "base_uri": "https://localhost:8080/"
        },
        "id": "3YDJfPokcb7y",
        "outputId": "6347f264-1385-47f0-d548-6ba130b3dae6"
      },
      "execution_count": 63,
      "outputs": [
        {
          "output_type": "execute_result",
          "data": {
            "text/plain": [
              "array([0, 1, 2, 1, 1, 1, 0, 0, 1, 1, 2, 1, 1, 2, 1, 1, 0, 0, 0, 0, 1, 0,\n",
              "       0, 1, 1, 1, 0, 2, 1, 1, 2, 0, 1, 0, 1, 1, 1, 0, 1, 0, 0, 1, 0, 0,\n",
              "       1, 1, 0, 0, 1, 0, 1, 1, 1, 1, 0, 1, 1, 1, 2, 1, 1, 1, 2, 1, 0, 1,\n",
              "       0, 0, 1, 1, 1, 0, 1, 0, 0, 0, 1, 0, 0, 0, 1, 1, 0, 2, 0, 0, 1, 1,\n",
              "       1, 1, 0, 1, 1, 1, 1, 1, 0, 0, 1, 2, 0, 1, 1, 1, 0, 0, 0, 0, 1, 1,\n",
              "       1, 1, 0, 1, 0, 0, 1, 1, 1, 2, 0, 1, 1, 1, 0, 0, 2, 0, 0, 1, 1, 1,\n",
              "       1, 0, 0, 1, 1, 1, 2, 0, 0, 2, 2, 1, 1, 1, 1, 0, 2, 0, 0, 0, 0, 0,\n",
              "       0, 1, 1, 2, 1, 1, 1, 1, 0, 0, 1, 0, 0, 1, 0, 1, 1, 0, 0, 0, 1, 1,\n",
              "       1, 0, 1, 1, 0, 1, 0, 1, 1, 0, 1, 0, 0, 0, 1, 1, 1, 2, 0, 1, 0, 1,\n",
              "       0, 1, 0, 1, 1, 0, 1, 0, 0, 1, 0, 0, 0, 1, 1, 1, 1, 0, 2, 0, 1, 2,\n",
              "       2, 1, 0, 2, 1, 1, 1, 1, 0, 0, 1, 1, 1, 0, 1, 1, 0, 1, 1, 2, 0, 0,\n",
              "       1, 0, 0, 1, 0, 0, 2, 1, 1, 0, 1, 0, 1, 1, 1, 1, 0, 0, 0, 0, 0, 1,\n",
              "       1, 0, 1, 1, 0, 0, 0, 1, 0, 0, 1, 1, 1, 0, 1, 0, 0, 1, 2, 1, 2, 1,\n",
              "       0, 1, 1, 1, 1, 1, 1, 1, 1], dtype=int32)"
            ]
          },
          "metadata": {},
          "execution_count": 63
        }
      ]
    },
    {
      "cell_type": "code",
      "source": [
        "matrizknn = confusion_matrix(y_test, preknn) \n",
        "sns.color_palette('icefire')\n",
        "sns.heatmap(matrizknn, annot=True, fmt='d')\n",
        "plt.show()"
      ],
      "metadata": {
        "colab": {
          "base_uri": "https://localhost:8080/",
          "height": 265
        },
        "id": "_3HaOoZSceSL",
        "outputId": "3f0af1a7-04cd-4945-d620-18eac0ee7391"
      },
      "execution_count": 64,
      "outputs": [
        {
          "output_type": "display_data",
          "data": {
            "text/plain": [
              "<Figure size 432x288 with 2 Axes>"
            ],
            "image/png": "[encoded data removed]"
          },
          "metadata": {
            "needs_background": "light"
          }
        }
      ]
    },
    {
      "cell_type": "code",
      "source": [
        "reporte3 = classification_report(y_test, preknn)\n",
        "print(reporte3)"
      ],
      "metadata": {
        "colab": {
          "base_uri": "https://localhost:8080/"
        },
        "id": "TCi7wqvvciSl",
        "outputId": "84abef7d-832b-4318-82de-c9e8d6646abb"
      },
      "execution_count": 65,
      "outputs": [
        {
          "output_type": "stream",
          "name": "stdout",
          "text": [
            "              precision    recall  f1-score   support\n",
            "\n",
            "           0       0.98      0.99      0.99       115\n",
            "           1       0.99      1.00      1.00       153\n",
            "           2       1.00      0.93      0.96        27\n",
            "\n",
            "    accuracy                           0.99       295\n",
            "   macro avg       0.99      0.97      0.98       295\n",
            "weighted avg       0.99      0.99      0.99       295\n",
            "\n"
          ]
        }
      ]
    },
    {
      "cell_type": "markdown",
      "source": [
        "#Maquinas de soporte Vectorial"
      ],
      "metadata": {
        "id": "F2IQUtbnclv0"
      }
    },
    {
      "cell_type": "code",
      "source": [
        "from sklearn import svm\n",
        "clf = svm.SVC(kernel= \"poly\")\n",
        "clf.fit(X_train_res,y_train_res)"
      ],
      "metadata": {
        "colab": {
          "base_uri": "https://localhost:8080/"
        },
        "id": "jp24t181coPt",
        "outputId": "687da7a3-2f63-446d-a7bb-0c754647af92"
      },
      "execution_count": 66,
      "outputs": [
        {
          "output_type": "stream",
          "name": "stderr",
          "text": [
            "/usr/local/lib/python3.7/dist-packages/sklearn/utils/validation.py:993: DataConversionWarning: A column-vector y was passed when a 1d array was expected. Please change the shape of y to (n_samples, ), for example using ravel().\n",
            "  y = column_or_1d(y, warn=True)\n"
          ]
        },
        {
          "output_type": "execute_result",
          "data": {
            "text/plain": [
              "SVC(kernel='poly')"
            ]
          },
          "metadata": {},
          "execution_count": 66
        }
      ]
    },
    {
      "cell_type": "code",
      "source": [
        "preclf = clf.predict(X_test)\n",
        "preclf"
      ],
      "metadata": {
        "colab": {
          "base_uri": "https://localhost:8080/"
        },
        "id": "CBa8ZhCPcrgO",
        "outputId": "7d171748-4e58-4238-93c4-d98f7839828e"
      },
      "execution_count": 67,
      "outputs": [
        {
          "output_type": "execute_result",
          "data": {
            "text/plain": [
              "array([0, 1, 2, 1, 1, 1, 0, 0, 1, 1, 2, 1, 1, 2, 1, 1, 0, 0, 0, 0, 1, 0,\n",
              "       0, 1, 1, 1, 0, 2, 1, 1, 2, 0, 1, 0, 1, 1, 1, 0, 1, 0, 0, 1, 0, 0,\n",
              "       1, 1, 0, 0, 1, 0, 1, 1, 1, 1, 0, 1, 0, 1, 2, 1, 1, 1, 2, 1, 0, 1,\n",
              "       0, 0, 1, 1, 1, 0, 1, 0, 0, 0, 1, 0, 0, 0, 1, 1, 0, 2, 0, 0, 1, 1,\n",
              "       1, 1, 0, 1, 1, 1, 1, 1, 0, 0, 1, 2, 0, 1, 1, 1, 0, 0, 0, 0, 1, 1,\n",
              "       1, 1, 0, 1, 0, 0, 1, 1, 1, 2, 0, 1, 1, 1, 0, 0, 2, 0, 0, 1, 1, 1,\n",
              "       1, 0, 0, 1, 1, 1, 2, 0, 0, 2, 2, 1, 1, 1, 1, 0, 2, 0, 0, 0, 0, 0,\n",
              "       0, 1, 1, 2, 1, 1, 1, 1, 0, 0, 1, 0, 0, 1, 0, 1, 1, 0, 0, 0, 1, 1,\n",
              "       1, 0, 1, 1, 0, 1, 0, 1, 1, 0, 0, 0, 0, 0, 1, 1, 0, 2, 0, 1, 0, 1,\n",
              "       0, 1, 0, 1, 1, 0, 1, 0, 0, 1, 0, 0, 0, 1, 1, 1, 1, 0, 2, 0, 1, 2,\n",
              "       2, 1, 0, 2, 1, 1, 1, 1, 0, 0, 1, 1, 1, 0, 1, 1, 0, 1, 1, 2, 0, 0,\n",
              "       1, 0, 0, 1, 0, 0, 2, 1, 1, 0, 1, 0, 1, 1, 1, 1, 0, 0, 0, 0, 0, 1,\n",
              "       1, 0, 1, 1, 0, 0, 0, 1, 0, 0, 1, 1, 1, 0, 1, 0, 0, 1, 2, 1, 2, 1,\n",
              "       0, 1, 1, 1, 1, 1, 1, 1, 1], dtype=int32)"
            ]
          },
          "metadata": {},
          "execution_count": 67
        }
      ]
    },
    {
      "cell_type": "code",
      "source": [
        "matrizclf = confusion_matrix(y_test, preclf) \n",
        "sns.color_palette('icefire')\n",
        "sns.heatmap(matrizclf, annot=True, fmt='d')\n",
        "plt.show()"
      ],
      "metadata": {
        "colab": {
          "base_uri": "https://localhost:8080/",
          "height": 265
        },
        "id": "34cQBXxXcukn",
        "outputId": "bbc4a78a-04c7-4591-df3f-806eded9a8e2"
      },
      "execution_count": 68,
      "outputs": [
        {
          "output_type": "display_data",
          "data": {
            "text/plain": [
              "<Figure size 432x288 with 2 Axes>"
            ],
            "image/png": "[encoded data removed]"
          },
          "metadata": {
            "needs_background": "light"
          }
        }
      ]
    },
    {
      "cell_type": "code",
      "source": [
        "reporte4 = classification_report(y_test, preclf)\n",
        "print(reporte4)"
      ],
      "metadata": {
        "colab": {
          "base_uri": "https://localhost:8080/"
        },
        "id": "iv46cDO-cxdT",
        "outputId": "8ac095d2-6980-42f0-e967-4ab78794ab75"
      },
      "execution_count": 69,
      "outputs": [
        {
          "output_type": "stream",
          "name": "stdout",
          "text": [
            "              precision    recall  f1-score   support\n",
            "\n",
            "           0       0.97      1.00      0.98       115\n",
            "           1       1.00      0.99      0.99       153\n",
            "           2       1.00      0.93      0.96        27\n",
            "\n",
            "    accuracy                           0.99       295\n",
            "   macro avg       0.99      0.97      0.98       295\n",
            "weighted avg       0.99      0.99      0.99       295\n",
            "\n"
          ]
        }
      ]
    },
    {
      "cell_type": "markdown",
      "source": [
        "#Redes Neuronales "
      ],
      "metadata": {
        "id": "j32df0Hnc96s"
      }
    },
    {
      "cell_type": "code",
      "source": [
        "from sklearn.neural_network import MLPClassifier\n",
        "mlp = MLPClassifier(hidden_layer_sizes=(100,50,25),activation = 'logistic' ,solver='adam',max_iter=1000)"
      ],
      "metadata": {
        "id": "AhCiIhQXc9Rh"
      },
      "execution_count": 70,
      "outputs": []
    },
    {
      "cell_type": "code",
      "source": [
        "mlp.fit(X_train_res,y_train_res)\n",
        "predRN = mlp.predict(X_test)\n",
        "predRN"
      ],
      "metadata": {
        "colab": {
          "base_uri": "https://localhost:8080/"
        },
        "id": "sji2PvL7dCip",
        "outputId": "3968c569-d2da-4501-f7e9-6510d337ab84"
      },
      "execution_count": 71,
      "outputs": [
        {
          "output_type": "stream",
          "name": "stderr",
          "text": [
            "/usr/local/lib/python3.7/dist-packages/sklearn/neural_network/_multilayer_perceptron.py:1109: DataConversionWarning: A column-vector y was passed when a 1d array was expected. Please change the shape of y to (n_samples, ), for example using ravel().\n",
            "  y = column_or_1d(y, warn=True)\n"
          ]
        },
        {
          "output_type": "execute_result",
          "data": {
            "text/plain": [
              "array([0, 1, 2, 1, 1, 1, 0, 0, 1, 1, 2, 1, 1, 2, 1, 1, 0, 0, 0, 0, 1, 0,\n",
              "       0, 0, 1, 1, 0, 2, 1, 1, 2, 0, 1, 0, 1, 1, 1, 0, 1, 0, 0, 1, 0, 0,\n",
              "       0, 1, 0, 0, 1, 0, 1, 1, 1, 0, 0, 1, 1, 1, 2, 1, 1, 1, 2, 1, 0, 1,\n",
              "       0, 0, 1, 1, 1, 0, 1, 0, 0, 0, 1, 0, 0, 0, 1, 1, 2, 2, 0, 0, 1, 1,\n",
              "       1, 1, 0, 1, 1, 1, 1, 1, 0, 0, 1, 2, 0, 1, 1, 1, 0, 0, 0, 0, 1, 1,\n",
              "       1, 1, 0, 1, 0, 0, 1, 1, 1, 2, 0, 1, 1, 1, 0, 0, 2, 0, 0, 1, 1, 1,\n",
              "       1, 0, 0, 1, 1, 1, 2, 0, 0, 2, 2, 1, 1, 1, 1, 2, 2, 0, 0, 0, 0, 0,\n",
              "       0, 1, 1, 2, 1, 1, 1, 1, 0, 0, 1, 0, 0, 1, 0, 1, 1, 0, 0, 0, 1, 1,\n",
              "       1, 0, 1, 1, 0, 1, 0, 1, 1, 0, 0, 0, 0, 0, 1, 1, 1, 2, 0, 1, 0, 1,\n",
              "       0, 1, 0, 1, 1, 0, 1, 0, 0, 1, 0, 0, 0, 1, 1, 1, 1, 0, 2, 0, 1, 2,\n",
              "       2, 1, 0, 2, 1, 1, 1, 1, 0, 0, 1, 1, 1, 0, 1, 1, 0, 1, 1, 2, 0, 0,\n",
              "       1, 0, 0, 1, 0, 0, 2, 1, 1, 0, 1, 0, 1, 1, 1, 1, 0, 0, 0, 0, 0, 1,\n",
              "       1, 0, 1, 1, 0, 0, 0, 1, 0, 0, 1, 1, 1, 0, 1, 0, 0, 1, 2, 1, 2, 1,\n",
              "       0, 1, 1, 1, 1, 1, 1, 1, 1], dtype=int32)"
            ]
          },
          "metadata": {},
          "execution_count": 71
        }
      ]
    },
    {
      "cell_type": "code",
      "source": [
        "matrizRN = confusion_matrix(y_test, predRN)\n",
        "sns.heatmap(matrizRN, annot=True)\n",
        "plt.show()\n",
        "print(matrizRN)"
      ],
      "metadata": {
        "colab": {
          "base_uri": "https://localhost:8080/",
          "height": 317
        },
        "id": "6OYBSgM8dFkR",
        "outputId": "1a7298ef-6e3e-49da-b4f9-ba60e76820f9"
      },
      "execution_count": 72,
      "outputs": [
        {
          "output_type": "display_data",
          "data": {
            "text/plain": [
              "<Figure size 432x288 with 2 Axes>"
            ],
            "image/png": "[encoded data removed]"
          },
          "metadata": {
            "needs_background": "light"
          }
        },
        {
          "output_type": "stream",
          "name": "stdout",
          "text": [
            "[[115   0   0]\n",
            " [  3 150   0]\n",
            " [  0   0  27]]\n"
          ]
        }
      ]
    },
    {
      "cell_type": "code",
      "source": [
        "print(classification_report(y_test, predRN))"
      ],
      "metadata": {
        "colab": {
          "base_uri": "https://localhost:8080/"
        },
        "id": "tzlp-lfYdKbo",
        "outputId": "465af251-e1ef-4ded-d547-e7d0b4721de9"
      },
      "execution_count": 73,
      "outputs": [
        {
          "output_type": "stream",
          "name": "stdout",
          "text": [
            "              precision    recall  f1-score   support\n",
            "\n",
            "           0       0.97      1.00      0.99       115\n",
            "           1       1.00      0.98      0.99       153\n",
            "           2       1.00      1.00      1.00        27\n",
            "\n",
            "    accuracy                           0.99       295\n",
            "   macro avg       0.99      0.99      0.99       295\n",
            "weighted avg       0.99      0.99      0.99       295\n",
            "\n"
          ]
        }
      ]
    },
    {
      "cell_type": "markdown",
      "source": [
        "#Discriminante lineal y cuadratico"
      ],
      "metadata": {
        "id": "rb34rVYQdPJy"
      }
    },
    {
      "cell_type": "code",
      "source": [
        "from sklearn.discriminant_analysis import LinearDiscriminantAnalysis\n",
        "lda = LinearDiscriminantAnalysis(n_components = 1)\n"
      ],
      "metadata": {
        "id": "2DDUqhpMdR2l"
      },
      "execution_count": 74,
      "outputs": []
    },
    {
      "cell_type": "code",
      "source": [
        "lda.fit(X_train_res, y_train_res)\n"
      ],
      "metadata": {
        "colab": {
          "base_uri": "https://localhost:8080/"
        },
        "id": "ozNn_GIYdUy6",
        "outputId": "cf66c765-f0ea-4ae3-96eb-f18ae6def480"
      },
      "execution_count": 75,
      "outputs": [
        {
          "output_type": "stream",
          "name": "stderr",
          "text": [
            "/usr/local/lib/python3.7/dist-packages/sklearn/utils/validation.py:993: DataConversionWarning: A column-vector y was passed when a 1d array was expected. Please change the shape of y to (n_samples, ), for example using ravel().\n",
            "  y = column_or_1d(y, warn=True)\n"
          ]
        },
        {
          "output_type": "execute_result",
          "data": {
            "text/plain": [
              "LinearDiscriminantAnalysis(n_components=1)"
            ]
          },
          "metadata": {},
          "execution_count": 75
        }
      ]
    },
    {
      "cell_type": "code",
      "source": [
        "predlda = lda.predict(X_test)\n"
      ],
      "metadata": {
        "id": "2xP8CmHEdWh7"
      },
      "execution_count": 76,
      "outputs": []
    },
    {
      "cell_type": "code",
      "source": [
        "predlda"
      ],
      "metadata": {
        "colab": {
          "base_uri": "https://localhost:8080/"
        },
        "id": "sdtGkuRvdYGT",
        "outputId": "5e846720-9fd6-4ff6-915e-e31f707b73d4"
      },
      "execution_count": 77,
      "outputs": [
        {
          "output_type": "execute_result",
          "data": {
            "text/plain": [
              "array([0, 1, 2, 1, 1, 1, 0, 0, 1, 1, 2, 1, 1, 2, 1, 1, 0, 0, 0, 0, 1, 0,\n",
              "       0, 1, 1, 1, 0, 2, 1, 1, 1, 0, 1, 0, 1, 1, 1, 0, 1, 1, 0, 1, 0, 0,\n",
              "       1, 1, 0, 0, 1, 0, 1, 1, 1, 1, 0, 1, 1, 1, 2, 1, 1, 1, 2, 1, 0, 1,\n",
              "       0, 0, 1, 1, 1, 0, 1, 0, 0, 0, 1, 0, 0, 0, 1, 1, 0, 2, 0, 0, 1, 1,\n",
              "       1, 1, 0, 1, 1, 1, 1, 1, 0, 0, 1, 2, 0, 1, 1, 1, 0, 0, 0, 0, 1, 1,\n",
              "       1, 1, 0, 1, 0, 0, 1, 1, 1, 2, 0, 1, 1, 1, 0, 0, 2, 0, 0, 1, 1, 1,\n",
              "       1, 0, 0, 1, 1, 1, 2, 0, 0, 2, 2, 1, 1, 1, 1, 0, 0, 0, 0, 0, 0, 0,\n",
              "       0, 1, 1, 2, 1, 1, 1, 1, 0, 0, 1, 0, 0, 1, 0, 1, 1, 0, 0, 0, 1, 1,\n",
              "       1, 0, 1, 1, 0, 1, 0, 1, 1, 0, 0, 0, 0, 0, 1, 1, 1, 2, 0, 1, 0, 1,\n",
              "       0, 1, 1, 1, 1, 0, 1, 0, 0, 1, 0, 0, 0, 1, 1, 1, 1, 0, 2, 0, 1, 2,\n",
              "       2, 1, 0, 2, 1, 1, 1, 1, 0, 0, 1, 1, 1, 0, 1, 1, 0, 1, 1, 2, 0, 0,\n",
              "       1, 0, 0, 1, 0, 0, 2, 1, 1, 0, 1, 0, 1, 1, 1, 1, 0, 0, 0, 0, 0, 1,\n",
              "       1, 0, 1, 1, 0, 0, 0, 1, 0, 0, 1, 1, 1, 0, 1, 0, 0, 1, 2, 1, 2, 1,\n",
              "       0, 1, 1, 1, 1, 1, 1, 1, 1], dtype=int32)"
            ]
          },
          "metadata": {},
          "execution_count": 77
        }
      ]
    },
    {
      "cell_type": "code",
      "source": [
        "matrizlda = confusion_matrix(y_test, predlda)\n",
        "sns.heatmap(matrizlda, annot=True)\n",
        "plt.show()\n",
        "print(matrizlda)"
      ],
      "metadata": {
        "id": "kY8qzyuIdaN3",
        "outputId": "648cdc1f-8c92-491c-9e44-4b3c25038f74",
        "colab": {
          "base_uri": "https://localhost:8080/",
          "height": 317
        }
      },
      "execution_count": 78,
      "outputs": [
        {
          "output_type": "display_data",
          "data": {
            "text/plain": [
              "<Figure size 432x288 with 2 Axes>"
            ],
            "image/png": "[encoded data removed]"
          },
          "metadata": {
            "needs_background": "light"
          }
        },
        {
          "output_type": "stream",
          "name": "stdout",
          "text": [
            "[[113   2   0]\n",
            " [  0 153   0]\n",
            " [  3   1  23]]\n"
          ]
        }
      ]
    },
    {
      "cell_type": "code",
      "source": [
        "print(classification_report(y_test, predlda))"
      ],
      "metadata": {
        "id": "XhvYqJvmdckv",
        "outputId": "9c19a66e-23ef-4ab4-d73d-e8a8d6c413d4",
        "colab": {
          "base_uri": "https://localhost:8080/"
        }
      },
      "execution_count": 79,
      "outputs": [
        {
          "output_type": "stream",
          "name": "stdout",
          "text": [
            "              precision    recall  f1-score   support\n",
            "\n",
            "           0       0.97      0.98      0.98       115\n",
            "           1       0.98      1.00      0.99       153\n",
            "           2       1.00      0.85      0.92        27\n",
            "\n",
            "    accuracy                           0.98       295\n",
            "   macro avg       0.98      0.94      0.96       295\n",
            "weighted avg       0.98      0.98      0.98       295\n",
            "\n"
          ]
        }
      ]
    }
  ]
}